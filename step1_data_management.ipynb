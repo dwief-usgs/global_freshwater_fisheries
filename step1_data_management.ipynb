{
 "cells": [
  {
   "cell_type": "markdown",
   "metadata": {},
   "source": [
    "This notebook explains initial data management steps.  Functions related to this step can be found in the file_management.py module in utils -> 'utils/file_management.py' or 'from utils import file_management'\n",
    "\n",
    "Step 1a) This step documents data used in the project.  ScienceBase is used to document source data and retrieval metadata.  When permitted data were downloaded using Python code.  In some cases data needed to be requested and delivered. \n",
    "\n",
    "Step 1b) Documents data management steps and concepts to be considered before processing starts.\n",
    "\n",
    "Step 1c) Create file that documents information about Tiff files.  This file will be used to control processing methods.\n",
    "\n",
    "Step 1d) Create serlialized versions of HydroSHEDS basin data for quick retrieval of information in processing steps"
   ]
  },
  {
   "cell_type": "markdown",
   "metadata": {},
   "source": [
    "## Step 1a: Download Source Data\n",
    "      \n",
    "#### Standard HydroBASINS from HydroSHEDS: \n",
    "    * Store src HydroSHEDS data in repo under 'data/HydroSHEDS'\n",
    "    * Individual file names need to remain as downloaded\n",
    "    * Structure under this folder does not matter\n",
    "    * See more information and download directions here: Coming Soon\n",
    "    \n",
    "#### Landscape Variables (var files):\n",
    "    * Store src landscape variable (var) files in repo under 'data/var'\n",
    "    * Structure under this folder does not matter\n",
    "    * See more information and download directions for var files used in this assessment here: Coming Soon\n",
    "    \n",
    "#### Source File Information:\n",
    "    * User created csv file containing processing information about each var file\n",
    "    * For ease of use name and store file in the repo as: 'data/var/file_processing_info.csv'\n",
    "    * Required fields for each file include: file_name, variable, src_short, summary_type, label \n",
    "    * File name must match corresponsing var file name, shapefiles can be represented by only the .shp file\n",
    "    * See more information and download directions here: Coming Soon"
   ]
  },
  {
   "cell_type": "code",
   "execution_count": null,
   "metadata": {},
   "outputs": [],
   "source": []
  },
  {
   "cell_type": "code",
   "execution_count": null,
   "metadata": {},
   "outputs": [],
   "source": []
  },
  {
   "cell_type": "code",
   "execution_count": 1,
   "metadata": {},
   "outputs": [],
   "source": [
    "#Example showing a list of URLS with files for Land Cover data\n",
    "#Note was having trouble downloading these using Python, server kept cutting off access\n",
    "import urllib.request as url_r\n",
    "\n",
    "try:\n",
    "    target_url = 'https://s3-eu-west-1.amazonaws.com/vito-lcv/2015/ZIPfiles/manifest_cgls_lc_v2_100m_global_2015.txt'\n",
    "    download_urls = url_r.urlopen(target_url).read()\n",
    "    download_urls_str = download_urls.decode(\"utf8\")\n",
    "    list_urls = list(download_urls_str.split('\\r\\n'))\n",
    "except Exception as e:\n",
    "    raise Exception(e)"
   ]
  },
  {
   "cell_type": "code",
   "execution_count": 2,
   "metadata": {},
   "outputs": [
    {
     "data": {
      "text/plain": [
       "['https://s3-eu-west-1.amazonaws.com/vito-lcv/2015/ZIPfiles/E000N00_ProbaV_LC100_epoch2015_global_v2.0.1_products_EPSG-4326.zip',\n",
       " 'https://s3-eu-west-1.amazonaws.com/vito-lcv/2015/ZIPfiles/E000N20_ProbaV_LC100_epoch2015_global_v2.0.1_products_EPSG-4326.zip',\n",
       " 'https://s3-eu-west-1.amazonaws.com/vito-lcv/2015/ZIPfiles/E000N40_ProbaV_LC100_epoch2015_global_v2.0.1_products_EPSG-4326.zip']"
      ]
     },
     "execution_count": 2,
     "metadata": {},
     "output_type": "execute_result"
    }
   ],
   "source": [
    "#Shows first 3 urls\n",
    "list_urls[0:3]"
   ]
  },
  {
   "cell_type": "code",
   "execution_count": null,
   "metadata": {},
   "outputs": [],
   "source": []
  },
  {
   "cell_type": "markdown",
   "metadata": {},
   "source": [
    "==================================================================================================================\n",
    "******************************************************************************************************************\n",
    "=================================================================================================================="
   ]
  },
  {
   "cell_type": "markdown",
   "metadata": {},
   "source": [
    "## Step 1b: Create intermediate files containing data needed for processing steps"
   ]
  },
  {
   "cell_type": "markdown",
   "metadata": {},
   "source": [
    "### A) Understand and modify initial data as needed\n",
    "    * Currently all source data were in the same coordinate system and no tests were built in yet.  User must ensure data are in {'init':'EPSG:4326'}, WGS84.\n",
    "    * The nodata value must be changed on some grids before the attribution process can be completed.  Not sure what is causing this, as the same nodata value is successfuly used by methods for some grids. Some example grids that needed this step include Pasture2000_5m.tif and Cropland2000_5m.tif.  \n",
    "    "
   ]
  },
  {
   "cell_type": "code",
   "execution_count": 3,
   "metadata": {},
   "outputs": [
    {
     "name": "stdout",
     "output_type": "stream",
     "text": [
      "Raster coordinate system EPSG:4326\n",
      "Shapefile coordinate system {'init': 'epsg:4326'}\n"
     ]
    }
   ],
   "source": [
    "#Example of how to verify coordinate system\n",
    "\n",
    "#for raster use rasterio to read data, then use crs method to get coordinate system information\n",
    "import rasterio\n",
    "file_name = 'data/var/CroplandPastureArea2000_Geotiff/Pasture2000_5m.tif'\n",
    "data = rasterio.open(file_name)\n",
    "coordinate_system = data.crs\n",
    "print (f'Raster coordinate system {coordinate_system}')\n",
    "\n",
    "#for shapefile use geopandas, read data in and call crs method, then use crs method to get coordinate system information\n",
    "import geopandas as gpd\n",
    "file_name = 'data/HydroSHEDS/basins/hybas_ar_lev12_v1c/hybas_ar_lev12_v1c.shp'\n",
    "gdf = gpd.read_file(file_name)\n",
    "gdf_coordinate_system = gdf.crs\n",
    "print (f'Shapefile coordinate system {gdf_coordinate_system}')"
   ]
  },
  {
   "cell_type": "code",
   "execution_count": 4,
   "metadata": {},
   "outputs": [],
   "source": [
    "#Example of reassigning nodata value for the Pasture2000_5m grid\n",
    "\n",
    "import rasterio\n",
    "import numpy as np\n",
    "\n",
    "file = 'data/var/CroplandPastureArea2000_Geotiff/Pasture2000_5m.tif'\n",
    "data = rasterio.open(file)\n",
    "init_data = data.read()\n",
    "#In this case the initial nodata value is the only negative number, we replace that with the unique value of 999\n",
    "new_data = np.where(init_data<0, 999, init_data) \n",
    "\n",
    "#Use the profile from the orginal data but update the profile to have a nodata value of 999 and when writing\n",
    "#new file using the new_data where nodata is now represented as 999\n",
    "with rasterio.Env():\n",
    "    profile = data.profile\n",
    "    profile.update(nodata=999)\n",
    "    \n",
    "    #save new data to file 'data/var/CroplandPastureArea2000_Geotiff/Pasture2000_5m_update_nodata999.tif'\n",
    "    with rasterio.open('data/var/CroplandPastureArea2000_Geotiff/Pasture2000_5m_update_nodata999.tif', 'w', **profile) as dst:\n",
    "        dst.write(new_data)\n",
    "    \n"
   ]
  },
  {
   "cell_type": "markdown",
   "metadata": {},
   "source": [
    "==================================================================================================================\n",
    "******************************************************************************************************************\n",
    "=================================================================================================================="
   ]
  },
  {
   "cell_type": "markdown",
   "metadata": {},
   "source": [
    "## Step 1c) Create a file documenting information about landscape variable files that need processing.  This file provides information so methods know how to handle the files in summarization steps."
   ]
  },
  {
   "cell_type": "markdown",
   "metadata": {},
   "source": [
    "    * Creates file: f'{directory}/{short_name}_ file_info.json'  -> example   data/var/tif_var_file_info.json\n",
    "    \n",
    "    * Example below creates json file  'data/var/tif_vars_file_info.json'.  The information in this file is used in later steps to inform how tif data from our source landscape variable datasets (stored in data/var directory in the repository) are attributed to basins in HydroSHEDS HYDROBASINS.  \n",
    "    \n",
    "    * Currently only gridded information (such as .tif) use this system, but hope to include similar process for vector data "
   ]
  },
  {
   "cell_type": "code",
   "execution_count": 5,
   "metadata": {},
   "outputs": [
    {
     "name": "stdout",
     "output_type": "stream",
     "text": [
      "[{'file_path': 'data/var/GWF_N_raster/wfgy_n_mmy_crs.tif', 'file_name': 'wfgy_n_mmy_crs.tif'}, {'file_path': 'data/var/GWF_N_raster/wfgy_n_mmy4326.tif_nodata-999.tif', 'file_name': 'wfgy_n_mmy4326.tif_nodata-999.tif'}, {'file_path': 'data/var/GWF_N_raster/wfgy_n_mmy4326.tif', 'file_name': 'wfgy_n_mmy4326.tif'}, {'file_path': 'data/var/CroplandPastureArea2000_Geotiff/Pasture2000_5m_update_nodata999.tif', 'file_name': 'Pasture2000_5m_update_nodata999.tif'}, {'file_path': 'data/var/CroplandPastureArea2000_Geotiff/Cropland2000_5m.tif', 'file_name': 'Cropland2000_5m.tif'}, {'file_path': 'data/var/CroplandPastureArea2000_Geotiff/Pasture2000_5m.tif', 'file_name': 'Pasture2000_5m.tif'}]\n",
      "data/var\n"
     ]
    }
   ],
   "source": [
    "from utils import file_management as f_mng\n",
    "\n",
    "directory = 'data/var'\n",
    "file_type = 'tif'\n",
    "extension = f'.{file_type}'\n",
    "\n",
    "short_name = f'{file_type}_vars'\n",
    "file_list, directory = f_mng.find_files(directory, suffix=extension)\n",
    "print (file_list)\n",
    "print (directory)\n",
    "\n",
    "# convert file information to dictionary and export to json\n",
    "file_info = f_mng.get_details_all_files(file_list, directory, short_name)"
   ]
  },
  {
   "cell_type": "code",
   "execution_count": 6,
   "metadata": {},
   "outputs": [
    {
     "data": {
      "text/plain": [
       "[{'file_name': 'wfgy_n_mmy_crs.tif',\n",
       "  'file_path': 'data/var/GWF_N_raster/wfgy_n_mmy_crs.tif',\n",
       "  'file_exists': True,\n",
       "  'meets_criteria': False,\n",
       "  'in_control_file': True,\n",
       "  'missing_info': False,\n",
       "  'bounds': {'xmin': 0.0, 'xmax': 2160.0, 'ymin': 853.0, 'ymax': 0.0},\n",
       "  'no_data_val': -3.4028234663852886e+38,\n",
       "  'pixel_size': 1.0,\n",
       "  'crs': 'EPSG:4326',\n",
       "  'message': 'wfgy_n_mmy_crs.tif is not in control_file'},\n",
       " {'file_name': 'wfgy_n_mmy4326.tif_nodata-999.tif',\n",
       "  'file_path': 'data/var/GWF_N_raster/wfgy_n_mmy4326.tif_nodata-999.tif',\n",
       "  'file_exists': True,\n",
       "  'meets_criteria': False,\n",
       "  'in_control_file': True,\n",
       "  'missing_info': False,\n",
       "  'bounds': {'xmin': -180.0,\n",
       "   'xmax': 180.00002880000005,\n",
       "   'ymin': -58.49861145019534,\n",
       "   'ymax': 83.58473324980466},\n",
       "  'no_data_val': -999.0,\n",
       "  'pixel_size': 0.08333334,\n",
       "  'crs': 'EPSG:4326',\n",
       "  'message': 'wfgy_n_mmy4326.tif_nodata-999.tif is not in control_file'}]"
      ]
     },
     "execution_count": 6,
     "metadata": {},
     "output_type": "execute_result"
    }
   ],
   "source": [
    "#Show information about 2 files that were documented in the JSON\n",
    "file_info[0:2]"
   ]
  },
  {
   "cell_type": "markdown",
   "metadata": {},
   "source": [
    "______________________________________________________________________________________________\n",
    "#### Below is a count of the number of .tif files ready to be processed and a view of the information for the first 5 files.\n",
    "\n",
    "Note: File processing information is available in two formats.  The function passes back a list of dictionaries.  Each dictionary stores information about a file.  The same information is also saved to disk as 'data/var/tif_vars_file_info.json', for processing in later sessions.  Here is an example of printing the number of files processed and showing the first 5 records using the returned variable file_info.  "
   ]
  },
  {
   "cell_type": "code",
   "execution_count": 7,
   "metadata": {},
   "outputs": [
    {
     "name": "stdout",
     "output_type": "stream",
     "text": [
      "6 files are documented and ready to process \n",
      "\n"
     ]
    },
    {
     "data": {
      "text/html": [
       "<div>\n",
       "<style scoped>\n",
       "    .dataframe tbody tr th:only-of-type {\n",
       "        vertical-align: middle;\n",
       "    }\n",
       "\n",
       "    .dataframe tbody tr th {\n",
       "        vertical-align: top;\n",
       "    }\n",
       "\n",
       "    .dataframe thead th {\n",
       "        text-align: right;\n",
       "    }\n",
       "</style>\n",
       "<table border=\"1\" class=\"dataframe\">\n",
       "  <thead>\n",
       "    <tr style=\"text-align: right;\">\n",
       "      <th></th>\n",
       "      <th>file_name</th>\n",
       "      <th>file_path</th>\n",
       "      <th>file_exists</th>\n",
       "      <th>meets_criteria</th>\n",
       "      <th>in_control_file</th>\n",
       "      <th>missing_info</th>\n",
       "      <th>bounds</th>\n",
       "      <th>no_data_val</th>\n",
       "      <th>pixel_size</th>\n",
       "      <th>crs</th>\n",
       "      <th>message</th>\n",
       "      <th>variable</th>\n",
       "      <th>src_short</th>\n",
       "      <th>summary_type</th>\n",
       "      <th>label</th>\n",
       "      <th>categorical</th>\n",
       "      <th>pixel_inclusion</th>\n",
       "    </tr>\n",
       "  </thead>\n",
       "  <tbody>\n",
       "    <tr>\n",
       "      <td>0</td>\n",
       "      <td>wfgy_n_mmy_crs.tif</td>\n",
       "      <td>data/var/GWF_N_raster/wfgy_n_mmy_crs.tif</td>\n",
       "      <td>True</td>\n",
       "      <td>False</td>\n",
       "      <td>True</td>\n",
       "      <td>False</td>\n",
       "      <td>{'xmin': 0.0, 'xmax': 2160.0, 'ymin': 853.0, '...</td>\n",
       "      <td>-3.402823e+38</td>\n",
       "      <td>1.000000</td>\n",
       "      <td>EPSG:4326</td>\n",
       "      <td>wfgy_n_mmy_crs.tif is not in control_file</td>\n",
       "      <td>NaN</td>\n",
       "      <td>NaN</td>\n",
       "      <td>NaN</td>\n",
       "      <td>NaN</td>\n",
       "      <td>NaN</td>\n",
       "      <td>NaN</td>\n",
       "    </tr>\n",
       "    <tr>\n",
       "      <td>1</td>\n",
       "      <td>wfgy_n_mmy4326.tif_nodata-999.tif</td>\n",
       "      <td>data/var/GWF_N_raster/wfgy_n_mmy4326.tif_nodat...</td>\n",
       "      <td>True</td>\n",
       "      <td>False</td>\n",
       "      <td>True</td>\n",
       "      <td>False</td>\n",
       "      <td>{'xmin': -180.0, 'xmax': 180.00002880000005, '...</td>\n",
       "      <td>-9.990000e+02</td>\n",
       "      <td>0.083333</td>\n",
       "      <td>EPSG:4326</td>\n",
       "      <td>wfgy_n_mmy4326.tif_nodata-999.tif is not in co...</td>\n",
       "      <td>NaN</td>\n",
       "      <td>NaN</td>\n",
       "      <td>NaN</td>\n",
       "      <td>NaN</td>\n",
       "      <td>NaN</td>\n",
       "      <td>NaN</td>\n",
       "    </tr>\n",
       "    <tr>\n",
       "      <td>2</td>\n",
       "      <td>wfgy_n_mmy4326.tif</td>\n",
       "      <td>data/var/GWF_N_raster/wfgy_n_mmy4326.tif</td>\n",
       "      <td>True</td>\n",
       "      <td>False</td>\n",
       "      <td>True</td>\n",
       "      <td>False</td>\n",
       "      <td>{'xmin': -180.0, 'xmax': 180.00002880000005, '...</td>\n",
       "      <td>-3.402823e+38</td>\n",
       "      <td>0.083333</td>\n",
       "      <td>EPSG:4326</td>\n",
       "      <td>wfgy_n_mmy4326.tif is not in control_file</td>\n",
       "      <td>NaN</td>\n",
       "      <td>NaN</td>\n",
       "      <td>NaN</td>\n",
       "      <td>NaN</td>\n",
       "      <td>NaN</td>\n",
       "      <td>NaN</td>\n",
       "    </tr>\n",
       "    <tr>\n",
       "      <td>3</td>\n",
       "      <td>Pasture2000_5m_update_nodata999.tif</td>\n",
       "      <td>data/var/CroplandPastureArea2000_Geotiff/Pastu...</td>\n",
       "      <td>True</td>\n",
       "      <td>True</td>\n",
       "      <td>False</td>\n",
       "      <td>False</td>\n",
       "      <td>{'xmin': -180.0, 'xmax': 179.99999999997954, '...</td>\n",
       "      <td>9.990000e+02</td>\n",
       "      <td>0.083333</td>\n",
       "      <td>EPSG:4326</td>\n",
       "      <td>NaN</td>\n",
       "      <td>pasture</td>\n",
       "      <td>earthstat_cropland_pasture_2000</td>\n",
       "      <td>count mean nodata</td>\n",
       "      <td>pasture2000</td>\n",
       "      <td>no</td>\n",
       "      <td>all_touching</td>\n",
       "    </tr>\n",
       "    <tr>\n",
       "      <td>4</td>\n",
       "      <td>Cropland2000_5m.tif</td>\n",
       "      <td>data/var/CroplandPastureArea2000_Geotiff/Cropl...</td>\n",
       "      <td>True</td>\n",
       "      <td>False</td>\n",
       "      <td>True</td>\n",
       "      <td>False</td>\n",
       "      <td>{'xmin': -180.0, 'xmax': 179.99999999997954, '...</td>\n",
       "      <td>-3.402823e+38</td>\n",
       "      <td>0.083333</td>\n",
       "      <td>EPSG:4326</td>\n",
       "      <td>Cropland2000_5m.tif is not in control_file</td>\n",
       "      <td>NaN</td>\n",
       "      <td>NaN</td>\n",
       "      <td>NaN</td>\n",
       "      <td>NaN</td>\n",
       "      <td>NaN</td>\n",
       "      <td>NaN</td>\n",
       "    </tr>\n",
       "  </tbody>\n",
       "</table>\n",
       "</div>"
      ],
      "text/plain": [
       "                             file_name  \\\n",
       "0                   wfgy_n_mmy_crs.tif   \n",
       "1    wfgy_n_mmy4326.tif_nodata-999.tif   \n",
       "2                   wfgy_n_mmy4326.tif   \n",
       "3  Pasture2000_5m_update_nodata999.tif   \n",
       "4                  Cropland2000_5m.tif   \n",
       "\n",
       "                                           file_path  file_exists  \\\n",
       "0           data/var/GWF_N_raster/wfgy_n_mmy_crs.tif         True   \n",
       "1  data/var/GWF_N_raster/wfgy_n_mmy4326.tif_nodat...         True   \n",
       "2           data/var/GWF_N_raster/wfgy_n_mmy4326.tif         True   \n",
       "3  data/var/CroplandPastureArea2000_Geotiff/Pastu...         True   \n",
       "4  data/var/CroplandPastureArea2000_Geotiff/Cropl...         True   \n",
       "\n",
       "   meets_criteria  in_control_file  missing_info  \\\n",
       "0           False             True         False   \n",
       "1           False             True         False   \n",
       "2           False             True         False   \n",
       "3            True            False         False   \n",
       "4           False             True         False   \n",
       "\n",
       "                                              bounds   no_data_val  \\\n",
       "0  {'xmin': 0.0, 'xmax': 2160.0, 'ymin': 853.0, '... -3.402823e+38   \n",
       "1  {'xmin': -180.0, 'xmax': 180.00002880000005, '... -9.990000e+02   \n",
       "2  {'xmin': -180.0, 'xmax': 180.00002880000005, '... -3.402823e+38   \n",
       "3  {'xmin': -180.0, 'xmax': 179.99999999997954, '...  9.990000e+02   \n",
       "4  {'xmin': -180.0, 'xmax': 179.99999999997954, '... -3.402823e+38   \n",
       "\n",
       "   pixel_size        crs                                            message  \\\n",
       "0    1.000000  EPSG:4326          wfgy_n_mmy_crs.tif is not in control_file   \n",
       "1    0.083333  EPSG:4326  wfgy_n_mmy4326.tif_nodata-999.tif is not in co...   \n",
       "2    0.083333  EPSG:4326          wfgy_n_mmy4326.tif is not in control_file   \n",
       "3    0.083333  EPSG:4326                                                NaN   \n",
       "4    0.083333  EPSG:4326         Cropland2000_5m.tif is not in control_file   \n",
       "\n",
       "  variable                        src_short       summary_type        label  \\\n",
       "0      NaN                              NaN                NaN          NaN   \n",
       "1      NaN                              NaN                NaN          NaN   \n",
       "2      NaN                              NaN                NaN          NaN   \n",
       "3  pasture  earthstat_cropland_pasture_2000  count mean nodata  pasture2000   \n",
       "4      NaN                              NaN                NaN          NaN   \n",
       "\n",
       "  categorical pixel_inclusion  \n",
       "0         NaN             NaN  \n",
       "1         NaN             NaN  \n",
       "2         NaN             NaN  \n",
       "3          no    all_touching  \n",
       "4         NaN             NaN  "
      ]
     },
     "execution_count": 7,
     "metadata": {},
     "output_type": "execute_result"
    }
   ],
   "source": [
    "print (f'{len(file_info)} files are documented and ready to process \\n')\n",
    "\n",
    "import pandas as pd\n",
    "df = pd.DataFrame(file_info[0:5])\n",
    "df"
   ]
  },
  {
   "cell_type": "code",
   "execution_count": 8,
   "metadata": {},
   "outputs": [
    {
     "data": {
      "text/plain": [
       "6"
      ]
     },
     "execution_count": 8,
     "metadata": {},
     "output_type": "execute_result"
    }
   ],
   "source": [
    "len(file_info)"
   ]
  },
  {
   "cell_type": "code",
   "execution_count": 9,
   "metadata": {},
   "outputs": [
    {
     "data": {
      "text/html": [
       "<div>\n",
       "<style scoped>\n",
       "    .dataframe tbody tr th:only-of-type {\n",
       "        vertical-align: middle;\n",
       "    }\n",
       "\n",
       "    .dataframe tbody tr th {\n",
       "        vertical-align: top;\n",
       "    }\n",
       "\n",
       "    .dataframe thead th {\n",
       "        text-align: right;\n",
       "    }\n",
       "</style>\n",
       "<table border=\"1\" class=\"dataframe\">\n",
       "  <thead>\n",
       "    <tr style=\"text-align: right;\">\n",
       "      <th></th>\n",
       "      <th>file_name</th>\n",
       "      <th>file_path</th>\n",
       "      <th>file_exists</th>\n",
       "      <th>meets_criteria</th>\n",
       "      <th>in_control_file</th>\n",
       "      <th>missing_info</th>\n",
       "      <th>bounds</th>\n",
       "      <th>no_data_val</th>\n",
       "      <th>pixel_size</th>\n",
       "      <th>crs</th>\n",
       "      <th>message</th>\n",
       "      <th>variable</th>\n",
       "      <th>src_short</th>\n",
       "      <th>summary_type</th>\n",
       "      <th>label</th>\n",
       "      <th>categorical</th>\n",
       "      <th>pixel_inclusion</th>\n",
       "    </tr>\n",
       "  </thead>\n",
       "  <tbody>\n",
       "    <tr>\n",
       "      <td>3</td>\n",
       "      <td>Pasture2000_5m_update_nodata999.tif</td>\n",
       "      <td>data/var/CroplandPastureArea2000_Geotiff/Pastu...</td>\n",
       "      <td>True</td>\n",
       "      <td>True</td>\n",
       "      <td>False</td>\n",
       "      <td>False</td>\n",
       "      <td>{'xmin': -180.0, 'xmax': 179.99999999997954, '...</td>\n",
       "      <td>999.0</td>\n",
       "      <td>0.083333</td>\n",
       "      <td>EPSG:4326</td>\n",
       "      <td>NaN</td>\n",
       "      <td>pasture</td>\n",
       "      <td>earthstat_cropland_pasture_2000</td>\n",
       "      <td>count mean nodata</td>\n",
       "      <td>pasture2000</td>\n",
       "      <td>no</td>\n",
       "      <td>all_touching</td>\n",
       "    </tr>\n",
       "  </tbody>\n",
       "</table>\n",
       "</div>"
      ],
      "text/plain": [
       "                             file_name  \\\n",
       "3  Pasture2000_5m_update_nodata999.tif   \n",
       "\n",
       "                                           file_path  file_exists  \\\n",
       "3  data/var/CroplandPastureArea2000_Geotiff/Pastu...         True   \n",
       "\n",
       "   meets_criteria  in_control_file  missing_info  \\\n",
       "3            True            False         False   \n",
       "\n",
       "                                              bounds  no_data_val  pixel_size  \\\n",
       "3  {'xmin': -180.0, 'xmax': 179.99999999997954, '...        999.0    0.083333   \n",
       "\n",
       "         crs message variable                        src_short  \\\n",
       "3  EPSG:4326     NaN  pasture  earthstat_cropland_pasture_2000   \n",
       "\n",
       "        summary_type        label categorical pixel_inclusion  \n",
       "3  count mean nodata  pasture2000          no    all_touching  "
      ]
     },
     "execution_count": 9,
     "metadata": {},
     "output_type": "execute_result"
    }
   ],
   "source": [
    "#Examples where file exists but the file_processing_information.csv file does not include the files, shows 3 records \n",
    "df.loc[(df['in_control_file']==False) & (df['file_exists']==True)]"
   ]
  },
  {
   "cell_type": "code",
   "execution_count": null,
   "metadata": {},
   "outputs": [],
   "source": []
  },
  {
   "cell_type": "markdown",
   "metadata": {},
   "source": [
    "==================================================================================================================\n",
    "******************************************************************************************************************\n",
    "=================================================================================================================="
   ]
  },
  {
   "cell_type": "markdown",
   "metadata": {},
   "source": [
    "# Step 1d) Create serlialized versions of HydroSHEDS level 12 basins \n",
    "\n",
    "3 variations are created and pickled for future use allowing for quick access to consistent information throughout processing steps\n",
    "    * geodataframe containing all attributes and all geospatial information (poly)\n",
    "    * dataframe containing all attributes except geospatial information -> requires less RAM and loads faster when geospatial data are not needed\n",
    "    * list of hybas_ids "
   ]
  },
  {
   "cell_type": "code",
   "execution_count": 10,
   "metadata": {},
   "outputs": [
    {
     "name": "stdout",
     "output_type": "stream",
     "text": [
      "Missing 8 regional files.\n",
      "Warning, expected 1034083 ids, you have 46882\n"
     ]
    }
   ],
   "source": [
    "from utils import file_management as f_mng\n",
    "f_mng.build_basin_data(level='12', version='v1c', directory = 'data/HydroSHEDS')\n",
    "#Prints number of records"
   ]
  },
  {
   "cell_type": "code",
   "execution_count": 11,
   "metadata": {},
   "outputs": [
    {
     "data": {
      "text/html": [
       "<div>\n",
       "<style scoped>\n",
       "    .dataframe tbody tr th:only-of-type {\n",
       "        vertical-align: middle;\n",
       "    }\n",
       "\n",
       "    .dataframe tbody tr th {\n",
       "        vertical-align: top;\n",
       "    }\n",
       "\n",
       "    .dataframe thead th {\n",
       "        text-align: right;\n",
       "    }\n",
       "</style>\n",
       "<table border=\"1\" class=\"dataframe\">\n",
       "  <thead>\n",
       "    <tr style=\"text-align: right;\">\n",
       "      <th></th>\n",
       "      <th>HYBAS_ID</th>\n",
       "      <th>NEXT_DOWN</th>\n",
       "      <th>NEXT_SINK</th>\n",
       "      <th>MAIN_BAS</th>\n",
       "      <th>DIST_SINK</th>\n",
       "      <th>DIST_MAIN</th>\n",
       "      <th>SUB_AREA</th>\n",
       "      <th>UP_AREA</th>\n",
       "      <th>PFAF_ID</th>\n",
       "      <th>ENDO</th>\n",
       "      <th>COAST</th>\n",
       "      <th>ORDER</th>\n",
       "      <th>SORT</th>\n",
       "      <th>geometry</th>\n",
       "    </tr>\n",
       "  </thead>\n",
       "  <tbody>\n",
       "    <tr>\n",
       "      <td>0</td>\n",
       "      <td>8120000010</td>\n",
       "      <td>0</td>\n",
       "      <td>8120000010</td>\n",
       "      <td>8120000010</td>\n",
       "      <td>0.0</td>\n",
       "      <td>0.0</td>\n",
       "      <td>1.8</td>\n",
       "      <td>1.8</td>\n",
       "      <td>811101001000</td>\n",
       "      <td>0</td>\n",
       "      <td>1</td>\n",
       "      <td>0</td>\n",
       "      <td>1</td>\n",
       "      <td>POLYGON ((-137.96250 58.89167, -137.96471 58.8...</td>\n",
       "    </tr>\n",
       "    <tr>\n",
       "      <td>1</td>\n",
       "      <td>8120000020</td>\n",
       "      <td>0</td>\n",
       "      <td>8120000020</td>\n",
       "      <td>8120000020</td>\n",
       "      <td>0.0</td>\n",
       "      <td>0.0</td>\n",
       "      <td>164.4</td>\n",
       "      <td>164.5</td>\n",
       "      <td>811101002000</td>\n",
       "      <td>0</td>\n",
       "      <td>0</td>\n",
       "      <td>1</td>\n",
       "      <td>2</td>\n",
       "      <td>POLYGON ((-137.98750 58.90833, -137.98684 58.9...</td>\n",
       "    </tr>\n",
       "  </tbody>\n",
       "</table>\n",
       "</div>"
      ],
      "text/plain": [
       "     HYBAS_ID  NEXT_DOWN   NEXT_SINK    MAIN_BAS  DIST_SINK  DIST_MAIN  \\\n",
       "0  8120000010          0  8120000010  8120000010        0.0        0.0   \n",
       "1  8120000020          0  8120000020  8120000020        0.0        0.0   \n",
       "\n",
       "   SUB_AREA  UP_AREA       PFAF_ID  ENDO  COAST  ORDER  SORT  \\\n",
       "0       1.8      1.8  811101001000     0      1      0     1   \n",
       "1     164.4    164.5  811101002000     0      0      1     2   \n",
       "\n",
       "                                            geometry  \n",
       "0  POLYGON ((-137.96250 58.89167, -137.96471 58.8...  \n",
       "1  POLYGON ((-137.98750 58.90833, -137.98684 58.9...  "
      ]
     },
     "execution_count": 11,
     "metadata": {},
     "output_type": "execute_result"
    }
   ],
   "source": [
    "#Test read gdf, show first 2 rows\n",
    "pkl_gdf = 'data/basins_lvl12_gdf.pkl'\n",
    "gdf = f_mng.read_pkl_gdf(pkl_gdf)\n",
    "gdf.head(2)"
   ]
  },
  {
   "cell_type": "code",
   "execution_count": 12,
   "metadata": {},
   "outputs": [
    {
     "data": {
      "text/plain": [
       "(46882, 14)"
      ]
     },
     "execution_count": 12,
     "metadata": {},
     "output_type": "execute_result"
    }
   ],
   "source": [
    "#There should be 1034083 rows and 14 columns\n",
    "gdf.shape"
   ]
  },
  {
   "cell_type": "code",
   "execution_count": 13,
   "metadata": {},
   "outputs": [
    {
     "data": {
      "text/html": [
       "<div>\n",
       "<style scoped>\n",
       "    .dataframe tbody tr th:only-of-type {\n",
       "        vertical-align: middle;\n",
       "    }\n",
       "\n",
       "    .dataframe tbody tr th {\n",
       "        vertical-align: top;\n",
       "    }\n",
       "\n",
       "    .dataframe thead th {\n",
       "        text-align: right;\n",
       "    }\n",
       "</style>\n",
       "<table border=\"1\" class=\"dataframe\">\n",
       "  <thead>\n",
       "    <tr style=\"text-align: right;\">\n",
       "      <th></th>\n",
       "      <th>HYBAS_ID</th>\n",
       "      <th>NEXT_DOWN</th>\n",
       "      <th>NEXT_SINK</th>\n",
       "      <th>MAIN_BAS</th>\n",
       "      <th>DIST_SINK</th>\n",
       "      <th>DIST_MAIN</th>\n",
       "      <th>SUB_AREA</th>\n",
       "      <th>UP_AREA</th>\n",
       "      <th>PFAF_ID</th>\n",
       "      <th>ENDO</th>\n",
       "      <th>COAST</th>\n",
       "      <th>ORDER</th>\n",
       "      <th>SORT</th>\n",
       "    </tr>\n",
       "  </thead>\n",
       "  <tbody>\n",
       "    <tr>\n",
       "      <td>0</td>\n",
       "      <td>8120000010</td>\n",
       "      <td>0</td>\n",
       "      <td>8120000010</td>\n",
       "      <td>8120000010</td>\n",
       "      <td>0.0</td>\n",
       "      <td>0.0</td>\n",
       "      <td>1.8</td>\n",
       "      <td>1.8</td>\n",
       "      <td>811101001000</td>\n",
       "      <td>0</td>\n",
       "      <td>1</td>\n",
       "      <td>0</td>\n",
       "      <td>1</td>\n",
       "    </tr>\n",
       "    <tr>\n",
       "      <td>1</td>\n",
       "      <td>8120000020</td>\n",
       "      <td>0</td>\n",
       "      <td>8120000020</td>\n",
       "      <td>8120000020</td>\n",
       "      <td>0.0</td>\n",
       "      <td>0.0</td>\n",
       "      <td>164.4</td>\n",
       "      <td>164.5</td>\n",
       "      <td>811101002000</td>\n",
       "      <td>0</td>\n",
       "      <td>0</td>\n",
       "      <td>1</td>\n",
       "      <td>2</td>\n",
       "    </tr>\n",
       "  </tbody>\n",
       "</table>\n",
       "</div>"
      ],
      "text/plain": [
       "     HYBAS_ID  NEXT_DOWN   NEXT_SINK    MAIN_BAS  DIST_SINK  DIST_MAIN  \\\n",
       "0  8120000010          0  8120000010  8120000010        0.0        0.0   \n",
       "1  8120000020          0  8120000020  8120000020        0.0        0.0   \n",
       "\n",
       "   SUB_AREA  UP_AREA       PFAF_ID  ENDO  COAST  ORDER  SORT  \n",
       "0       1.8      1.8  811101001000     0      1      0     1  \n",
       "1     164.4    164.5  811101002000     0      0      1     2  "
      ]
     },
     "execution_count": 13,
     "metadata": {},
     "output_type": "execute_result"
    }
   ],
   "source": [
    "#Test read df, show first 3 rows\n",
    "pkl_df_path = 'data/basins_lvl12_df.pkl'\n",
    "df=f_mng.read_pkl_df(pkl_df_path)\n",
    "df.head(2)"
   ]
  },
  {
   "cell_type": "code",
   "execution_count": 14,
   "metadata": {},
   "outputs": [
    {
     "data": {
      "text/plain": [
       "(46882, 13)"
      ]
     },
     "execution_count": 14,
     "metadata": {},
     "output_type": "execute_result"
    }
   ],
   "source": [
    "#There should be 1034083 rows and 13 columns (same as gdf but no geometry)\n",
    "df.shape"
   ]
  },
  {
   "cell_type": "code",
   "execution_count": 15,
   "metadata": {},
   "outputs": [
    {
     "data": {
      "text/plain": [
       "[8120434690, 8120303620, 8120172550, 8120041480, 8120434700]"
      ]
     },
     "execution_count": 15,
     "metadata": {},
     "output_type": "execute_result"
    }
   ],
   "source": [
    "#Test read list of HydroBASIN IDs, print first five\n",
    "pkl_df_path = 'data/basins_lvl12.txt'\n",
    "hybas_id_list=f_mng.read_pkl_df(pkl_df_path)\n",
    "hybas_id_list[0:5]"
   ]
  },
  {
   "cell_type": "code",
   "execution_count": null,
   "metadata": {},
   "outputs": [],
   "source": []
  }
 ],
 "metadata": {
  "kernelspec": {
   "display_name": "Python 3",
   "language": "python",
   "name": "python3"
  },
  "language_info": {
   "codemirror_mode": {
    "name": "ipython",
    "version": 3
   },
   "file_extension": ".py",
   "mimetype": "text/x-python",
   "name": "python",
   "nbconvert_exporter": "python",
   "pygments_lexer": "ipython3",
   "version": "3.7.4"
  }
 },
 "nbformat": 4,
 "nbformat_minor": 2
}
