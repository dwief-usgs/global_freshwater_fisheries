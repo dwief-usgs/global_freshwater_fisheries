{
 "cells": [
  {
   "cell_type": "markdown",
   "metadata": {},
   "source": [
    "## Step 1a: Download Source Data\n",
    "      \n",
    "#### Standard HydroBASINS from HydroSHEDS: \n",
    "    * Store src HydroSHEDS data in repo under 'data/HydroSHEDS'\n",
    "    * Individual file names need to remain as downloaded\n",
    "    * Structure under this folder does not matter\n",
    "    * See more information and download directions here:\n",
    "    \n",
    "#### Landscape Variables (var files):\n",
    "    * Store src landscape variable (var) files in repo under 'data/var'\n",
    "    * Structure under this folder does not matter\n",
    "    * See more information and download directions for var files used in this assessment here:\n",
    "    \n",
    "#### Source File Information:\n",
    "    * User created csv file containing processing information about each var file\n",
    "    * For ease of use name and store file in the repo as: 'data/var/file_processing_info.csv'\n",
    "    * Required fields for each file include: file_name, variable, src_short, summary_type, label \n",
    "    * File name must match corresponsing var file name, shapefiles can be represented by only the .shp file\n",
    "    * See more information and download directions here:"
   ]
  },
  {
   "cell_type": "code",
   "execution_count": null,
   "metadata": {},
   "outputs": [],
   "source": []
  },
  {
   "cell_type": "code",
   "execution_count": 1,
   "metadata": {},
   "outputs": [],
   "source": [
    "#Note that the nodata value must be changed on some grids before the attribution process can be completed\n",
    "#I am unsure why but guessing due to they way they were made?\n",
    "#Pasture2000_5m.tif, Cropland2000_5m.tif\n",
    "\n",
    "import rasterio\n",
    "import numpy as np\n",
    "\n",
    "file = 'data/var/CroplandPastureArea2000_Geotiff/Pasture2000_5m.tif'\n",
    "data = rasterio.open(file)\n",
    "init_data = data.read()\n",
    "#In this case the initial nodata value is the only negative number, we replace that with the unique value of 999\n",
    "new_data = np.where(init_data<0, 999, init_data) \n",
    "\n",
    "#Use the profile from the orginal data but update the profile to have a nodata value of 999 and when writing\n",
    "#new file use the new_data\n",
    "with rasterio.Env():\n",
    "    profile = data.profile\n",
    "    profile.update(nodata=999)\n",
    "    \n",
    "    with rasterio.open('data/var/CroplandPastureArea2000_Geotiff/Pasture2000_5m_update_nodata999.tif', 'w', **profile) as dst:\n",
    "        dst.write(new_data)"
   ]
  },
  {
   "cell_type": "code",
   "execution_count": null,
   "metadata": {},
   "outputs": [],
   "source": []
  },
  {
   "cell_type": "code",
   "execution_count": 2,
   "metadata": {},
   "outputs": [],
   "source": [
    "#Example showing a list of URLS with files for Land Cover data\n",
    "#Note was having trouble downloading these using Python, server kept cutting off access\n",
    "import urllib.request as url_r\n",
    "\n",
    "try:\n",
    "    target_url = 'https://s3-eu-west-1.amazonaws.com/vito-lcv/2015/ZIPfiles/manifest_cgls_lc_v2_100m_global_2015.txt'\n",
    "    download_urls = url_r.urlopen(target_url).read()\n",
    "    download_urls_str = download_urls.decode(\"utf8\")\n",
    "    list_urls = list(download_urls_str.split('\\r\\n'))\n",
    "except Exception as e:\n",
    "    raise Exception(e)"
   ]
  },
  {
   "cell_type": "code",
   "execution_count": 3,
   "metadata": {},
   "outputs": [
    {
     "data": {
      "text/plain": [
       "['https://s3-eu-west-1.amazonaws.com/vito-lcv/2015/ZIPfiles/E000N00_ProbaV_LC100_epoch2015_global_v2.0.1_products_EPSG-4326.zip',\n",
       " 'https://s3-eu-west-1.amazonaws.com/vito-lcv/2015/ZIPfiles/E000N20_ProbaV_LC100_epoch2015_global_v2.0.1_products_EPSG-4326.zip',\n",
       " 'https://s3-eu-west-1.amazonaws.com/vito-lcv/2015/ZIPfiles/E000N40_ProbaV_LC100_epoch2015_global_v2.0.1_products_EPSG-4326.zip',\n",
       " 'https://s3-eu-west-1.amazonaws.com/vito-lcv/2015/ZIPfiles/E000N60_ProbaV_LC100_epoch2015_global_v2.0.1_products_EPSG-4326.zip']"
      ]
     },
     "execution_count": 3,
     "metadata": {},
     "output_type": "execute_result"
    }
   ],
   "source": [
    "#Shows first 4 urls\n",
    "list_urls[0:4]"
   ]
  },
  {
   "cell_type": "code",
   "execution_count": null,
   "metadata": {},
   "outputs": [],
   "source": []
  },
  {
   "cell_type": "markdown",
   "metadata": {},
   "source": [
    "==================================================================================================================\n",
    "******************************************************************************************************************\n",
    "=================================================================================================================="
   ]
  },
  {
   "cell_type": "markdown",
   "metadata": {},
   "source": [
    "## Step 1b: Create intermediate files containing data needed for processing steps"
   ]
  },
  {
   "cell_type": "markdown",
   "metadata": {},
   "source": [
    "### A) create file: f'{directory}/{short_name}_ file_info.json'  -> example   data/var/tif_var_file_info.json\n",
    "    * Example below creates json file  'data/var/tif_vars_file_info.json'.  The information in this file is used in later steps to inform how tif data from our source landscape variable datasets (stored in data/var directory in the repository) are attributed to basins in HydroSHEDS HYDROBASINS"
   ]
  },
  {
   "cell_type": "code",
   "execution_count": 4,
   "metadata": {},
   "outputs": [],
   "source": [
    "from utils import file_management as f_mng\n",
    "\n",
    "directory = 'data/var'\n",
    "file_type = '.tif'\n",
    "\n",
    "short_name = f'{file_type}_vars'\n",
    "file_list, directory = f_mng.find_files(directory, suffix=file_type)\n",
    "\n",
    "#convert file information to dictionary and export to json\n",
    "file_info, missing_info = f_mng.store_file_info(file_list, directory, short_name)"
   ]
  },
  {
   "cell_type": "markdown",
   "metadata": {},
   "source": [
    "______________________________________________________________________________________________\n",
    "#### Below is a count of the number of .tif files ready to be processed and a view of the information for the first 5 files.\n",
    "\n",
    "Note: File processing information is available in two formats.  The function passes back a list of dictionaries.  Each dictionary stores information about a file.  The same information is also saved to disk as 'data/var/tif_vars_file_info.json', for processing in later sessions.  Here is an example of printing the number of files processed and showing the first 5 records using the returned variable file_info.  "
   ]
  },
  {
   "cell_type": "code",
   "execution_count": 5,
   "metadata": {},
   "outputs": [
    {
     "name": "stdout",
     "output_type": "stream",
     "text": [
      "1038 files are documented and ready to process \n",
      "\n"
     ]
    },
    {
     "data": {
      "text/html": [
       "<div>\n",
       "<style scoped>\n",
       "    .dataframe tbody tr th:only-of-type {\n",
       "        vertical-align: middle;\n",
       "    }\n",
       "\n",
       "    .dataframe tbody tr th {\n",
       "        vertical-align: top;\n",
       "    }\n",
       "\n",
       "    .dataframe thead th {\n",
       "        text-align: right;\n",
       "    }\n",
       "</style>\n",
       "<table border=\"1\" class=\"dataframe\">\n",
       "  <thead>\n",
       "    <tr style=\"text-align: right;\">\n",
       "      <th></th>\n",
       "      <th>categorical</th>\n",
       "      <th>file_name</th>\n",
       "      <th>file_path</th>\n",
       "      <th>label</th>\n",
       "      <th>pixel_inclusion</th>\n",
       "      <th>src_short</th>\n",
       "      <th>summary_type</th>\n",
       "      <th>variable</th>\n",
       "    </tr>\n",
       "  </thead>\n",
       "  <tbody>\n",
       "    <tr>\n",
       "      <th>0</th>\n",
       "      <td>yes</td>\n",
       "      <td>WaterDepletionCat_WG3.tif</td>\n",
       "      <td>data/var/WaterDepletion_WaterGap3/WaterDepleti...</td>\n",
       "      <td>h2o_depletion</td>\n",
       "      <td>all_touching</td>\n",
       "      <td>earthstat_water_gap3</td>\n",
       "      <td>majority max min</td>\n",
       "      <td>water_depletion_class</td>\n",
       "    </tr>\n",
       "    <tr>\n",
       "      <th>1</th>\n",
       "      <td>no</td>\n",
       "      <td>Pasture2000_5m_update_nodata999.tif</td>\n",
       "      <td>data/var/CroplandPastureArea2000_Geotiff/Pastu...</td>\n",
       "      <td>pasture2000</td>\n",
       "      <td>all_touching</td>\n",
       "      <td>earthstat_cropland_pasture_2000</td>\n",
       "      <td>count mean nodata</td>\n",
       "      <td>pasture</td>\n",
       "    </tr>\n",
       "    <tr>\n",
       "      <th>2</th>\n",
       "      <td>no</td>\n",
       "      <td>Cropland2000_5m_update_nodata999.tif</td>\n",
       "      <td>data/var/CroplandPastureArea2000_Geotiff/Cropl...</td>\n",
       "      <td>cropland2000</td>\n",
       "      <td>all_touching</td>\n",
       "      <td>earthstat_cropland_pasture_2000</td>\n",
       "      <td>count mean nodata</td>\n",
       "      <td>cropland</td>\n",
       "    </tr>\n",
       "    <tr>\n",
       "      <th>3</th>\n",
       "      <td>no</td>\n",
       "      <td>gpw_v4_population_density_rev11_2015_30_sec.tif</td>\n",
       "      <td>data/var/Gridded Population of the World_v4.11...</td>\n",
       "      <td>gpw2015_pop_den</td>\n",
       "      <td>centroid</td>\n",
       "      <td>gpw2015_v4_rev11_30_sec</td>\n",
       "      <td>count mean nodata</td>\n",
       "      <td>population_density</td>\n",
       "    </tr>\n",
       "    <tr>\n",
       "      <th>4</th>\n",
       "      <td>no</td>\n",
       "      <td>W120N80_ProbaV_LC100_epoch2015_global_v2.0.1_w...</td>\n",
       "      <td>data/var/LC100_epoch2015/W120N80_ProbaV_LC100_...</td>\n",
       "      <td>lc2015_waterseas_cov</td>\n",
       "      <td>centroid</td>\n",
       "      <td>lc100_epoch2015_v2.0.1</td>\n",
       "      <td>count mean nodata</td>\n",
       "      <td>water-seasonal-coverfraction-layer</td>\n",
       "    </tr>\n",
       "  </tbody>\n",
       "</table>\n",
       "</div>"
      ],
      "text/plain": [
       "  categorical                                          file_name  \\\n",
       "0         yes                          WaterDepletionCat_WG3.tif   \n",
       "1          no                Pasture2000_5m_update_nodata999.tif   \n",
       "2          no               Cropland2000_5m_update_nodata999.tif   \n",
       "3          no    gpw_v4_population_density_rev11_2015_30_sec.tif   \n",
       "4          no  W120N80_ProbaV_LC100_epoch2015_global_v2.0.1_w...   \n",
       "\n",
       "                                           file_path                 label  \\\n",
       "0  data/var/WaterDepletion_WaterGap3/WaterDepleti...         h2o_depletion   \n",
       "1  data/var/CroplandPastureArea2000_Geotiff/Pastu...           pasture2000   \n",
       "2  data/var/CroplandPastureArea2000_Geotiff/Cropl...          cropland2000   \n",
       "3  data/var/Gridded Population of the World_v4.11...       gpw2015_pop_den   \n",
       "4  data/var/LC100_epoch2015/W120N80_ProbaV_LC100_...  lc2015_waterseas_cov   \n",
       "\n",
       "  pixel_inclusion                        src_short       summary_type  \\\n",
       "0    all_touching             earthstat_water_gap3   majority max min   \n",
       "1    all_touching  earthstat_cropland_pasture_2000  count mean nodata   \n",
       "2    all_touching  earthstat_cropland_pasture_2000  count mean nodata   \n",
       "3        centroid          gpw2015_v4_rev11_30_sec  count mean nodata   \n",
       "4        centroid           lc100_epoch2015_v2.0.1  count mean nodata   \n",
       "\n",
       "                             variable  \n",
       "0               water_depletion_class  \n",
       "1                             pasture  \n",
       "2                            cropland  \n",
       "3                  population_density  \n",
       "4  water-seasonal-coverfraction-layer  "
      ]
     },
     "execution_count": 5,
     "metadata": {},
     "output_type": "execute_result"
    }
   ],
   "source": [
    "print (f'{len(file_info)} files are documented and ready to process \\n')\n",
    "\n",
    "import pandas as pd\n",
    "pd.DataFrame(file_info[0:5])"
   ]
  },
  {
   "cell_type": "code",
   "execution_count": 6,
   "metadata": {},
   "outputs": [
    {
     "data": {
      "text/plain": [
       "1038"
      ]
     },
     "execution_count": 6,
     "metadata": {},
     "output_type": "execute_result"
    }
   ],
   "source": [
    "len(file_info)"
   ]
  },
  {
   "cell_type": "code",
   "execution_count": 9,
   "metadata": {},
   "outputs": [
    {
     "data": {
      "text/plain": [
       "[{'file_name': 'Cropland2000_5m.tif',\n",
       "  'missing_fields': ['field_name',\n",
       "   'variable',\n",
       "   'src_short',\n",
       "   'summary_type',\n",
       "   'label',\n",
       "   'all_touched',\n",
       "   'conditional']},\n",
       " {'file_name': 'Pasture2000_5m.tif',\n",
       "  'missing_fields': ['field_name',\n",
       "   'variable',\n",
       "   'src_short',\n",
       "   'summary_type',\n",
       "   'label',\n",
       "   'all_touched',\n",
       "   'conditional']},\n",
       " {'file_name': 'W120N80_ProbaV_LC100_epoch2015_global_v2.0.1_moss-coverfraction-StdDev_EPSG-4326.tif',\n",
       "  'missing_fields': ['field_name',\n",
       "   'variable',\n",
       "   'src_short',\n",
       "   'summary_type',\n",
       "   'label',\n",
       "   'all_touched',\n",
       "   'conditional']}]"
      ]
     },
     "execution_count": 9,
     "metadata": {},
     "output_type": "execute_result"
    }
   ],
   "source": [
    "#Examples of missing data dictionaries\n",
    "missing_info[0:3]"
   ]
  },
  {
   "cell_type": "code",
   "execution_count": null,
   "metadata": {},
   "outputs": [],
   "source": []
  },
  {
   "cell_type": "markdown",
   "metadata": {},
   "source": [
    "_____________________________________________________________________________________________________________\n",
    "#### The process also returned the variable missing_info, which is a list of dictionaries holding information about .tif files that were available and meeting the criteria (i.e. specified directory and file_type) yet were either not in the file_processing_info.csv file or were in the file but had missing values."
   ]
  },
  {
   "cell_type": "code",
   "execution_count": 10,
   "metadata": {},
   "outputs": [
    {
     "name": "stdout",
     "output_type": "stream",
     "text": [
      "0 file(s) with missing fields in data/var/file_processing_info.csv\n",
      "3083 files(s) are not in data/var/file_processing_info.csv\n"
     ]
    }
   ],
   "source": [
    "#Example of how to use missing_info to understand what files that met criteria are not currently ready for processing\n",
    "\n",
    "#Import file_processing_info to get a count of number of columns\n",
    "import pandas as pd\n",
    "df = pd.read_csv('data/var/file_processing_info.csv')\n",
    "rows, cols = df.shape\n",
    "\n",
    "#If missing_info has data, count and print number of files that are not in the csv.\n",
    "#Also count and print number of files that are in the csv but have missing data.  In this case print the file name and missing fields.\n",
    "if missing_info:\n",
    "    w_missing_file = 0\n",
    "    w_missing_fields = 0\n",
    "    for record in missing_info:\n",
    "        if 'missing_fields' in record and len(record['missing_fields'])==cols:\n",
    "            w_missing_file += 1\n",
    "        elif 'missing_fields' in record and len(record['missing_fields'])<cols:\n",
    "            w_missing_fields += 1\n",
    "            print (f\"{record['file_name']} found in file_processing_info.csv but has missing fields: {record['missing_fields']}\")\n",
    "            print ('\\n')\n",
    "        elif 'file_failed' in record:\n",
    "            print (f\"{record['file_name']} failed\")\n",
    "            print ('\\n')\n",
    "    print (f'{w_missing_fields} file(s) with missing fields in data/var/file_processing_info.csv')\n",
    "    print (f'{w_missing_file} files(s) are not in data/var/file_processing_info.csv')\n",
    "else:\n",
    "    print('No files with missing processing information detected in processed directory')"
   ]
  },
  {
   "cell_type": "code",
   "execution_count": null,
   "metadata": {},
   "outputs": [],
   "source": []
  },
  {
   "cell_type": "code",
   "execution_count": null,
   "metadata": {},
   "outputs": [],
   "source": []
  },
  {
   "cell_type": "markdown",
   "metadata": {},
   "source": [
    "### B) Create serlialized versions of HydroSHEDS level 12 basins \n",
    "\n",
    "3 variations are created and pickled for future use allowing for quick access to consistent information throughout processing steps\n",
    "    * geodataframe containing all attributes and all geospatial information (poly)\n",
    "    * dataframe containing all attributes except geospatial information\n",
    "    * list of hybas_ids "
   ]
  },
  {
   "cell_type": "code",
   "execution_count": 11,
   "metadata": {},
   "outputs": [
    {
     "name": "stdout",
     "output_type": "stream",
     "text": [
      "1034083\n"
     ]
    }
   ],
   "source": [
    "from utils import file_management as f_mng\n",
    "f_mng.build_basin_data(level='12', version='v1c', directory = 'data/HydroSHEDS')\n",
    "#Prints number of records"
   ]
  },
  {
   "cell_type": "code",
   "execution_count": 12,
   "metadata": {},
   "outputs": [
    {
     "data": {
      "text/html": [
       "<div>\n",
       "<style scoped>\n",
       "    .dataframe tbody tr th:only-of-type {\n",
       "        vertical-align: middle;\n",
       "    }\n",
       "\n",
       "    .dataframe tbody tr th {\n",
       "        vertical-align: top;\n",
       "    }\n",
       "\n",
       "    .dataframe thead th {\n",
       "        text-align: right;\n",
       "    }\n",
       "</style>\n",
       "<table border=\"1\" class=\"dataframe\">\n",
       "  <thead>\n",
       "    <tr style=\"text-align: right;\">\n",
       "      <th></th>\n",
       "      <th>HYBAS_ID</th>\n",
       "      <th>NEXT_DOWN</th>\n",
       "      <th>NEXT_SINK</th>\n",
       "      <th>MAIN_BAS</th>\n",
       "      <th>DIST_SINK</th>\n",
       "      <th>DIST_MAIN</th>\n",
       "      <th>SUB_AREA</th>\n",
       "      <th>UP_AREA</th>\n",
       "      <th>PFAF_ID</th>\n",
       "      <th>ENDO</th>\n",
       "      <th>COAST</th>\n",
       "      <th>ORDER</th>\n",
       "      <th>SORT</th>\n",
       "      <th>geometry</th>\n",
       "    </tr>\n",
       "  </thead>\n",
       "  <tbody>\n",
       "    <tr>\n",
       "      <th>0</th>\n",
       "      <td>1120000010</td>\n",
       "      <td>0</td>\n",
       "      <td>1120000010</td>\n",
       "      <td>1120000010</td>\n",
       "      <td>0.0</td>\n",
       "      <td>0.0</td>\n",
       "      <td>11.0</td>\n",
       "      <td>11.0</td>\n",
       "      <td>111011001000</td>\n",
       "      <td>0</td>\n",
       "      <td>1</td>\n",
       "      <td>0</td>\n",
       "      <td>1</td>\n",
       "      <td>POLYGON ((32.50000000000002 29.94583333333337,...</td>\n",
       "    </tr>\n",
       "    <tr>\n",
       "      <th>1</th>\n",
       "      <td>1120000020</td>\n",
       "      <td>0</td>\n",
       "      <td>1120000020</td>\n",
       "      <td>1120000020</td>\n",
       "      <td>0.0</td>\n",
       "      <td>0.0</td>\n",
       "      <td>137.0</td>\n",
       "      <td>416.8</td>\n",
       "      <td>111011002100</td>\n",
       "      <td>0</td>\n",
       "      <td>0</td>\n",
       "      <td>1</td>\n",
       "      <td>2</td>\n",
       "      <td>POLYGON ((32.36250000000002 29.97083333333337,...</td>\n",
       "    </tr>\n",
       "    <tr>\n",
       "      <th>2</th>\n",
       "      <td>1121694330</td>\n",
       "      <td>1120000020</td>\n",
       "      <td>1120000020</td>\n",
       "      <td>1120000020</td>\n",
       "      <td>19.5</td>\n",
       "      <td>19.5</td>\n",
       "      <td>135.1</td>\n",
       "      <td>280.0</td>\n",
       "      <td>111011002200</td>\n",
       "      <td>0</td>\n",
       "      <td>0</td>\n",
       "      <td>1</td>\n",
       "      <td>3</td>\n",
       "      <td>POLYGON ((32.36250000000002 29.9666666666667, ...</td>\n",
       "    </tr>\n",
       "    <tr>\n",
       "      <th>3</th>\n",
       "      <td>1121693980</td>\n",
       "      <td>1121694330</td>\n",
       "      <td>1120000020</td>\n",
       "      <td>1120000020</td>\n",
       "      <td>35.3</td>\n",
       "      <td>35.3</td>\n",
       "      <td>144.9</td>\n",
       "      <td>144.9</td>\n",
       "      <td>111011002300</td>\n",
       "      <td>0</td>\n",
       "      <td>0</td>\n",
       "      <td>1</td>\n",
       "      <td>4</td>\n",
       "      <td>POLYGON ((32.25833333333335 29.9916666666667, ...</td>\n",
       "    </tr>\n",
       "    <tr>\n",
       "      <th>4</th>\n",
       "      <td>1120000030</td>\n",
       "      <td>0</td>\n",
       "      <td>1120000030</td>\n",
       "      <td>1120000030</td>\n",
       "      <td>0.0</td>\n",
       "      <td>0.0</td>\n",
       "      <td>186.8</td>\n",
       "      <td>186.9</td>\n",
       "      <td>111011003000</td>\n",
       "      <td>0</td>\n",
       "      <td>1</td>\n",
       "      <td>0</td>\n",
       "      <td>5</td>\n",
       "      <td>POLYGON ((32.40000000000002 29.73750000000003,...</td>\n",
       "    </tr>\n",
       "  </tbody>\n",
       "</table>\n",
       "</div>"
      ],
      "text/plain": [
       "     HYBAS_ID   NEXT_DOWN   NEXT_SINK    MAIN_BAS  DIST_SINK  DIST_MAIN  \\\n",
       "0  1120000010           0  1120000010  1120000010        0.0        0.0   \n",
       "1  1120000020           0  1120000020  1120000020        0.0        0.0   \n",
       "2  1121694330  1120000020  1120000020  1120000020       19.5       19.5   \n",
       "3  1121693980  1121694330  1120000020  1120000020       35.3       35.3   \n",
       "4  1120000030           0  1120000030  1120000030        0.0        0.0   \n",
       "\n",
       "   SUB_AREA  UP_AREA       PFAF_ID  ENDO  COAST  ORDER  SORT  \\\n",
       "0      11.0     11.0  111011001000     0      1      0     1   \n",
       "1     137.0    416.8  111011002100     0      0      1     2   \n",
       "2     135.1    280.0  111011002200     0      0      1     3   \n",
       "3     144.9    144.9  111011002300     0      0      1     4   \n",
       "4     186.8    186.9  111011003000     0      1      0     5   \n",
       "\n",
       "                                            geometry  \n",
       "0  POLYGON ((32.50000000000002 29.94583333333337,...  \n",
       "1  POLYGON ((32.36250000000002 29.97083333333337,...  \n",
       "2  POLYGON ((32.36250000000002 29.9666666666667, ...  \n",
       "3  POLYGON ((32.25833333333335 29.9916666666667, ...  \n",
       "4  POLYGON ((32.40000000000002 29.73750000000003,...  "
      ]
     },
     "execution_count": 12,
     "metadata": {},
     "output_type": "execute_result"
    }
   ],
   "source": [
    "#Test read gdf\n",
    "pkl_gdf = 'data/basins_lvl12_gdf.pkl'\n",
    "gdf = f_mng.read_pkl_gdf(pkl_gdf)\n",
    "gdf.head(5)"
   ]
  },
  {
   "cell_type": "code",
   "execution_count": 13,
   "metadata": {},
   "outputs": [
    {
     "data": {
      "text/plain": [
       "(1034083, 14)"
      ]
     },
     "execution_count": 13,
     "metadata": {},
     "output_type": "execute_result"
    }
   ],
   "source": [
    "gdf.shape"
   ]
  },
  {
   "cell_type": "code",
   "execution_count": 14,
   "metadata": {},
   "outputs": [
    {
     "data": {
      "text/html": [
       "<div>\n",
       "<style scoped>\n",
       "    .dataframe tbody tr th:only-of-type {\n",
       "        vertical-align: middle;\n",
       "    }\n",
       "\n",
       "    .dataframe tbody tr th {\n",
       "        vertical-align: top;\n",
       "    }\n",
       "\n",
       "    .dataframe thead th {\n",
       "        text-align: right;\n",
       "    }\n",
       "</style>\n",
       "<table border=\"1\" class=\"dataframe\">\n",
       "  <thead>\n",
       "    <tr style=\"text-align: right;\">\n",
       "      <th></th>\n",
       "      <th>HYBAS_ID</th>\n",
       "      <th>NEXT_DOWN</th>\n",
       "      <th>NEXT_SINK</th>\n",
       "      <th>MAIN_BAS</th>\n",
       "      <th>DIST_SINK</th>\n",
       "      <th>DIST_MAIN</th>\n",
       "      <th>SUB_AREA</th>\n",
       "      <th>UP_AREA</th>\n",
       "      <th>PFAF_ID</th>\n",
       "      <th>ENDO</th>\n",
       "      <th>COAST</th>\n",
       "      <th>ORDER</th>\n",
       "      <th>SORT</th>\n",
       "    </tr>\n",
       "  </thead>\n",
       "  <tbody>\n",
       "    <tr>\n",
       "      <th>0</th>\n",
       "      <td>1120000010</td>\n",
       "      <td>0</td>\n",
       "      <td>1120000010</td>\n",
       "      <td>1120000010</td>\n",
       "      <td>0.0</td>\n",
       "      <td>0.0</td>\n",
       "      <td>11.0</td>\n",
       "      <td>11.0</td>\n",
       "      <td>111011001000</td>\n",
       "      <td>0</td>\n",
       "      <td>1</td>\n",
       "      <td>0</td>\n",
       "      <td>1</td>\n",
       "    </tr>\n",
       "    <tr>\n",
       "      <th>1</th>\n",
       "      <td>1120000020</td>\n",
       "      <td>0</td>\n",
       "      <td>1120000020</td>\n",
       "      <td>1120000020</td>\n",
       "      <td>0.0</td>\n",
       "      <td>0.0</td>\n",
       "      <td>137.0</td>\n",
       "      <td>416.8</td>\n",
       "      <td>111011002100</td>\n",
       "      <td>0</td>\n",
       "      <td>0</td>\n",
       "      <td>1</td>\n",
       "      <td>2</td>\n",
       "    </tr>\n",
       "    <tr>\n",
       "      <th>2</th>\n",
       "      <td>1121694330</td>\n",
       "      <td>1120000020</td>\n",
       "      <td>1120000020</td>\n",
       "      <td>1120000020</td>\n",
       "      <td>19.5</td>\n",
       "      <td>19.5</td>\n",
       "      <td>135.1</td>\n",
       "      <td>280.0</td>\n",
       "      <td>111011002200</td>\n",
       "      <td>0</td>\n",
       "      <td>0</td>\n",
       "      <td>1</td>\n",
       "      <td>3</td>\n",
       "    </tr>\n",
       "    <tr>\n",
       "      <th>3</th>\n",
       "      <td>1121693980</td>\n",
       "      <td>1121694330</td>\n",
       "      <td>1120000020</td>\n",
       "      <td>1120000020</td>\n",
       "      <td>35.3</td>\n",
       "      <td>35.3</td>\n",
       "      <td>144.9</td>\n",
       "      <td>144.9</td>\n",
       "      <td>111011002300</td>\n",
       "      <td>0</td>\n",
       "      <td>0</td>\n",
       "      <td>1</td>\n",
       "      <td>4</td>\n",
       "    </tr>\n",
       "    <tr>\n",
       "      <th>4</th>\n",
       "      <td>1120000030</td>\n",
       "      <td>0</td>\n",
       "      <td>1120000030</td>\n",
       "      <td>1120000030</td>\n",
       "      <td>0.0</td>\n",
       "      <td>0.0</td>\n",
       "      <td>186.8</td>\n",
       "      <td>186.9</td>\n",
       "      <td>111011003000</td>\n",
       "      <td>0</td>\n",
       "      <td>1</td>\n",
       "      <td>0</td>\n",
       "      <td>5</td>\n",
       "    </tr>\n",
       "  </tbody>\n",
       "</table>\n",
       "</div>"
      ],
      "text/plain": [
       "     HYBAS_ID   NEXT_DOWN   NEXT_SINK    MAIN_BAS  DIST_SINK  DIST_MAIN  \\\n",
       "0  1120000010           0  1120000010  1120000010        0.0        0.0   \n",
       "1  1120000020           0  1120000020  1120000020        0.0        0.0   \n",
       "2  1121694330  1120000020  1120000020  1120000020       19.5       19.5   \n",
       "3  1121693980  1121694330  1120000020  1120000020       35.3       35.3   \n",
       "4  1120000030           0  1120000030  1120000030        0.0        0.0   \n",
       "\n",
       "   SUB_AREA  UP_AREA       PFAF_ID  ENDO  COAST  ORDER  SORT  \n",
       "0      11.0     11.0  111011001000     0      1      0     1  \n",
       "1     137.0    416.8  111011002100     0      0      1     2  \n",
       "2     135.1    280.0  111011002200     0      0      1     3  \n",
       "3     144.9    144.9  111011002300     0      0      1     4  \n",
       "4     186.8    186.9  111011003000     0      1      0     5  "
      ]
     },
     "execution_count": 14,
     "metadata": {},
     "output_type": "execute_result"
    }
   ],
   "source": [
    "#Test read df\n",
    "pkl_df_path = 'data/basins_lvl12_df.pkl'\n",
    "df=f_mng.read_pkl_df(pkl_df_path)\n",
    "df.head()"
   ]
  },
  {
   "cell_type": "code",
   "execution_count": 15,
   "metadata": {},
   "outputs": [
    {
     "data": {
      "text/plain": [
       "(1034083, 13)"
      ]
     },
     "execution_count": 15,
     "metadata": {},
     "output_type": "execute_result"
    }
   ],
   "source": [
    "df.shape"
   ]
  },
  {
   "cell_type": "code",
   "execution_count": 16,
   "metadata": {},
   "outputs": [
    {
     "data": {
      "text/plain": [
       "[1121976320, 4120903680, 3120562180, 8120172550, 2120220680]"
      ]
     },
     "execution_count": 16,
     "metadata": {},
     "output_type": "execute_result"
    }
   ],
   "source": [
    "#Test read list\n",
    "pkl_df_path = 'data/basins_lvl12.txt'\n",
    "hybas_id_list=f_mng.read_pkl_df(pkl_df_path)\n",
    "hybas_id_list[0:5]"
   ]
  },
  {
   "cell_type": "code",
   "execution_count": null,
   "metadata": {},
   "outputs": [],
   "source": []
  }
 ],
 "metadata": {
  "kernelspec": {
   "display_name": "Python 3",
   "language": "python",
   "name": "python3"
  },
  "language_info": {
   "codemirror_mode": {
    "name": "ipython",
    "version": 3
   },
   "file_extension": ".py",
   "mimetype": "text/x-python",
   "name": "python",
   "nbconvert_exporter": "python",
   "pygments_lexer": "ipython3",
   "version": "3.7.3"
  }
 },
 "nbformat": 4,
 "nbformat_minor": 2
}
