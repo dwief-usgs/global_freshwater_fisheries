{
 "cells": [
  {
   "cell_type": "code",
   "execution_count": 1,
   "metadata": {},
   "outputs": [],
   "source": [
    "#Import requirements\n",
    "from utils import build_lk_catchment as build_lk\n",
    "import geopandas as gpd"
   ]
  },
  {
   "cell_type": "code",
   "execution_count": 2,
   "metadata": {},
   "outputs": [],
   "source": [
    "#Import HydroLAKES geodatabase\n",
    "lake_file = 'data/HydroLAKES_polys_v10.gdb'\n",
    "lakes_df = gpd.read_file(lake_file, layer= 'HydroLAKES_polys_v10')\n",
    "\n",
    "#lake_file = '../test_data/lakes.shp'\n",
    "#lakes_df_sub = gpd.read_file(lake_file)\n",
    "\n",
    "#create subset of lakes to test against (or run against entire HydroLakes dataset, note that would require ~ 7GB RAM)\n",
    "lakes_df_sub = lakes_df.iloc[400:450]"
   ]
  },
  {
   "cell_type": "code",
   "execution_count": 3,
   "metadata": {},
   "outputs": [],
   "source": [
    "#Create list of objects for each lake\n",
    "lakes_info = []\n",
    "for lake in lakes_df_sub.itertuples():\n",
    "    lake_id = lake.Hylak_id\n",
    "    continent = lake.Continent\n",
    "    wshd_area = lake.Wshd_area\n",
    "    pour_pt_lat = lake.Pour_lat\n",
    "    pour_pt_lon = lake.Pour_long\n",
    "    geom = lake.geometry\n",
    "    lk = build_lk.Lake(lake_id, continent, wshd_area, pour_pt_lat, pour_pt_lon, geom)\n",
    "    lk.which_dir_raster()\n",
    "    lakes_info.append(lk)"
   ]
  },
  {
   "cell_type": "code",
   "execution_count": 11,
   "metadata": {},
   "outputs": [
    {
     "name": "stdout",
     "output_type": "stream",
     "text": [
      "lake_id: 402, continent: North America, wshd_area: 1780.699951171875, wgs84_xy:-151.158698, 60.23348)\n"
     ]
    }
   ],
   "source": [
    "print (lakes_info[1])"
   ]
  },
  {
   "cell_type": "code",
   "execution_count": 6,
   "metadata": {},
   "outputs": [
    {
     "name": "stdout",
     "output_type": "stream",
     "text": [
      "Directory  output/lkshed  already exists\n"
     ]
    }
   ],
   "source": [
    "import os\n",
    "\n",
    "dirName = \"output/lkshed\"\n",
    "# Create target directory & all intermediate directories if don't exists\n",
    "try:\n",
    "    os.makedirs(dirName)    \n",
    "    print(\"Directory \" , dirName ,  \" Created \")\n",
    "except FileExistsError:\n",
    "    print(\"Directory \" , dirName ,  \" already exists\") "
   ]
  },
  {
   "cell_type": "code",
   "execution_count": 14,
   "metadata": {},
   "outputs": [
    {
     "name": "stdout",
     "output_type": "stream",
     "text": [
      "processing: lake_id: 401, continent: North America, wshd_area: 16013.5, wgs84_xy:-134.281263, 60.256222)\n",
      "processing: lake_id: 403, continent: North America, wshd_area: 1142.9000244140625, wgs84_xy:-99.105667, 60.141257)\n",
      "processing: lake_id: 404, continent: North America, wshd_area: 1675.5999755859375, wgs84_xy:-73.575905, 60.040656)\n",
      "processing: lake_id: 405, continent: North America, wshd_area: 9371.2998046875, wgs84_xy:-75.580208, 60.019583)\n",
      "processing: lake_id: 408, continent: North America, wshd_area: 1502.5, wgs84_xy:-97.895268, 59.929348)\n",
      "processing: lake_id: 409, continent: North America, wshd_area: 5023.60009765625, wgs84_xy:-104.165625, 59.897076)\n",
      "processing: lake_id: 410, continent: North America, wshd_area: 3888.300048828125, wgs84_xy:-106.400931, 59.863975)\n",
      "processing: lake_id: 411, continent: North America, wshd_area: 3664.5, wgs84_xy:-71.730208, 59.820256)\n",
      "processing: lake_id: 412, continent: North America, wshd_area: 8727.5, wgs84_xy:-109.429853, 59.815731)\n",
      "processing: lake_id: 413, continent: North America, wshd_area: 2683.39990234375, wgs84_xy:-75.294798, 59.77955)\n",
      "processing: lake_id: 414, continent: North America, wshd_area: 4847.89990234375, wgs84_xy:-119.180193, 59.744076)\n",
      "processing: lake_id: 415, continent: North America, wshd_area: 1662.9000244140625, wgs84_xy:-99.321875, 59.732191)\n",
      "processing: lake_id: 416, continent: North America, wshd_area: 694.0999755859375, wgs84_xy:-73.580208, 59.695536)\n",
      "processing: lake_id: 417, continent: North America, wshd_area: 2496.10009765625, wgs84_xy:-100.151242, 59.6711)\n",
      "processing: lake_id: 418, continent: North America, wshd_area: 4434.39990234375, wgs84_xy:-100.895077, 59.636215)\n",
      "processing: lake_id: 419, continent: North America, wshd_area: 7013.2998046875, wgs84_xy:-133.81361, 59.599259)\n",
      "processing: lake_id: 420, continent: North America, wshd_area: 4358.0, wgs84_xy:-97.773503, 59.495211)\n",
      "processing: lake_id: 422, continent: North America, wshd_area: 2061.800048828125, wgs84_xy:-103.859564, 59.22334)\n",
      "processing: lake_id: 423, continent: North America, wshd_area: 8264.2001953125, wgs84_xy:-73.148768, 59.221747)\n",
      "processing: lake_id: 424, continent: North America, wshd_area: 6286.0, wgs84_xy:-74.99367, 59.176559)\n",
      "processing: lake_id: 425, continent: North America, wshd_area: 50193.0, wgs84_xy:-105.539038, 59.150265)\n",
      "processing: lake_id: 427, continent: North America, wshd_area: 2164.10009765625, wgs84_xy:-73.864691, 59.099562)\n",
      "processing: lake_id: 428, continent: North America, wshd_area: 1834.5999755859375, wgs84_xy:-106.650784, 59.096666)\n",
      "processing: lake_id: 429, continent: North America, wshd_area: 1380.199951171875, wgs84_xy:-103.596617, 59.056104)\n",
      "processing: lake_id: 431, continent: North America, wshd_area: 14841.599609375, wgs84_xy:-98.923397, 58.972256)\n",
      "processing: lake_id: 432, continent: North America, wshd_area: 1462.4000244140625, wgs84_xy:-71.557559, 58.94007)\n",
      "processing: lake_id: 433, continent: North America, wshd_area: 8666.900390625, wgs84_xy:-108.190857, 58.938038)\n",
      "processing: lake_id: 434, continent: North America, wshd_area: 18613.80078125, wgs84_xy:-98.381517, 58.858703)\n",
      "processing: lake_id: 435, continent: North America, wshd_area: 37339.5, wgs84_xy:-97.599583, 58.829678)\n",
      "processing: lake_id: 436, continent: North America, wshd_area: 1024.199951171875, wgs84_xy:-72.278716, 58.757967)\n",
      "processing: lake_id: 437, continent: North America, wshd_area: 16596.5, wgs84_xy:-98.240637, 58.713961)\n",
      "processing: lake_id: 438, continent: North America, wshd_area: 1496.0999755859375, wgs84_xy:-103.853125, 58.689294)\n",
      "processing: lake_id: 440, continent: North America, wshd_area: 5170.2001953125, wgs84_xy:-75.631071, 58.646603)\n",
      "processing: lake_id: 441, continent: North America, wshd_area: 21962.400390625, wgs84_xy:-111.385402, 58.641007)\n",
      "processing: lake_id: 443, continent: North America, wshd_area: 6173.60009765625, wgs84_xy:-75.944792, 58.589723)\n",
      "processing: lake_id: 444, continent: North America, wshd_area: 25937.0, wgs84_xy:-101.406547, 58.545205)\n",
      "processing: lake_id: 445, continent: North America, wshd_area: 697.2000122070312, wgs84_xy:-105.17894, 58.492092)\n",
      "processing: lake_id: 446, continent: North America, wshd_area: 372.3999938964844, wgs84_xy:-101.960395, 58.435393)\n",
      "processing: lake_id: 447, continent: North America, wshd_area: 2847.60009765625, wgs84_xy:-75.173958, 58.355016)\n",
      "processing: lake_id: 448, continent: North America, wshd_area: 3682.300048828125, wgs84_xy:-96.991457, 58.282178)\n",
      "processing: lake_id: 449, continent: North America, wshd_area: 2116.89990234375, wgs84_xy:-104.447462, 58.247889)\n",
      "processing: lake_id: 450, continent: North America, wshd_area: 3451.300048828125, wgs84_xy:-73.378125, 58.074644)\n"
     ]
    }
   ],
   "source": [
    "for lake in lakes_info:\n",
    "    if hasattr(lake, 'dir_file'):\n",
    "        flow_dir_file = lake.dir_file\n",
    "        print (f\"processing: {lake}\" )\n",
    "        build_lk.watershed(flow_dir_file,lake,55)"
   ]
  },
  {
   "cell_type": "code",
   "execution_count": null,
   "metadata": {},
   "outputs": [],
   "source": []
  },
  {
   "cell_type": "code",
   "execution_count": null,
   "metadata": {},
   "outputs": [],
   "source": [
    "#lake.id in [11,15,16,17,18,78,126,152,153,154,156,158,159,161,162,163,167,169,171,172,1332,1348,1527,1543,1545,1590,1605,1629,15765,175664]"
   ]
  },
  {
   "cell_type": "code",
   "execution_count": 16,
   "metadata": {},
   "outputs": [
    {
     "name": "stdout",
     "output_type": "stream",
     "text": [
      "data/HydroSHEDS/HydroBASINS/dir/af/af_dir_15s\n",
      "BoundingBox(left=-19.0, bottom=-35.0, right=54.999999999998806, top=37.999999999998835)\n",
      "data/HydroSHEDS/HydroBASINS/dir/as/as_dir_15s\n",
      "BoundingBox(left=57.0, bottom=-12.0, right=179.999999999998, top=60.999999999998835)\n",
      "data/HydroSHEDS/HydroBASINS/dir/au/au_dir_15s\n",
      "BoundingBox(left=112.0, bottom=-56.0, right=180.00000000000054, top=-9.999999999999638)\n",
      "data/HydroSHEDS/HydroBASINS/dir/ca/ca_dir_15s\n",
      "BoundingBox(left=-119.0, bottom=5.0, right=-60.000000000000945, top=38.99999999999945)\n",
      "data/HydroSHEDS/HydroBASINS/dir/eu/eu_dir_15s\n",
      "BoundingBox(left=-14.0, bottom=12.0, right=69.99999999999865, top=61.9999999999992)\n",
      "data/HydroSHEDS/HydroBASINS/dir/na/na_dir_15s\n",
      "BoundingBox(left=-138.0, bottom=24.0, right=-52.00000000000138, top=60.9999999999994)\n",
      "data/HydroSHEDS/HydroBASINS/dir/sa/sa_dir_15s\n",
      "BoundingBox(left=-93.0, bottom=-56.0, right=-32.00000000000098, top=14.999999999998863)\n"
     ]
    }
   ],
   "source": [
    "#Documents GAPS in Bounding Box for different continents.  Note GAP between North America and \n",
    "\n",
    "import rasterio\n",
    "raster_file_dir= ['data/HydroSHEDS/HydroBASINS/dir/af/af_dir_15s','data/HydroSHEDS/HydroBASINS/dir/as/as_dir_15s', \\\n",
    "    'data/HydroSHEDS/HydroBASINS/dir/au/au_dir_15s', 'data/HydroSHEDS/HydroBASINS/dir/ca/ca_dir_15s', 'data/HydroSHEDS/HydroBASINS/dir/eu/eu_dir_15s', \\\n",
    "    'data/HydroSHEDS/HydroBASINS/dir/na/na_dir_15s','data/HydroSHEDS/HydroBASINS/dir/sa/sa_dir_15s']\n",
    "\n",
    "for raster in raster_file_dir:\n",
    "    dataset = rasterio.open(raster)\n",
    "    print (raster)\n",
    "    print (dataset.bounds)\n",
    "            "
   ]
  },
  {
   "cell_type": "code",
   "execution_count": null,
   "metadata": {},
   "outputs": [],
   "source": []
  },
  {
   "cell_type": "code",
   "execution_count": null,
   "metadata": {},
   "outputs": [],
   "source": []
  },
  {
   "cell_type": "code",
   "execution_count": null,
   "metadata": {},
   "outputs": [],
   "source": []
  },
  {
   "cell_type": "code",
   "execution_count": null,
   "metadata": {},
   "outputs": [],
   "source": [
    "#Provide unique \n",
    "lakes_df['Continent'].unique()\n",
    "\n",
    "#list of continents in \n",
    "#continent_list_in_lakes = ['Europe', 'North America', 'Asia', 'Africa', 'South America','Oceania']\n",
    "\n",
    "#as documented on page 6 of HydroSHEDS tech doc\n",
    "#continent_nm = {'Europe and Middle East':'eu','North America Arctic':'ar','South America':'sa','Africa':'af','Central and South-East Asia':'as', 'Greenland':'gr', 'Australia and Oceania':'au', 'North America and Caribbean':na, 'Siberia':si }\n"
   ]
  }
 ],
 "metadata": {
  "kernelspec": {
   "display_name": "Python 3",
   "language": "python",
   "name": "python3"
  },
  "language_info": {
   "codemirror_mode": {
    "name": "ipython",
    "version": 3
   },
   "file_extension": ".py",
   "mimetype": "text/x-python",
   "name": "python",
   "nbconvert_exporter": "python",
   "pygments_lexer": "ipython3",
   "version": "3.7.3"
  }
 },
 "nbformat": 4,
 "nbformat_minor": 2
}
