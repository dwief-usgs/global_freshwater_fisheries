{
 "cells": [
  {
   "cell_type": "markdown",
   "metadata": {},
   "source": [
    "### Step 2: Attribute Tiff Data to HydroBasins Level 12"
   ]
  },
  {
   "cell_type": "markdown",
   "metadata": {},
   "source": [
    "Attributing information from Tiff files to HydroBASINS Level 12"
   ]
  },
  {
   "cell_type": "code",
   "execution_count": 1,
   "metadata": {},
   "outputs": [],
   "source": [
    "import geopandas as gpd\n",
    "import pandas as pd\n",
    "import rasterio\n",
    "import json\n",
    "from rasterstats import zonal_stats\n",
    "from timeit import default_timer as timer\n",
    "\n",
    "from utils import file_management as f_mng\n",
    "from utils import attribution as attr"
   ]
  },
  {
   "cell_type": "markdown",
   "metadata": {},
   "source": [
    "First we will import tif file processing information and HydroBASIN data that we stored in step 1 (see step1_data_management.ipynb).  \n",
    "\n",
    "We then determine bounds for each HydroBASIN.  In some cases TIF files do not have global coverage.  Instead of running the entire (CPU intense) zonal statistics process on each TIF we run a quick box intersection algorithm to test which TIF files likely have relevant data for each basin and only run the rest of the attribution process on these files. \n",
    "\n",
    "Note there is a lot of data being loaded, this cell may take over a minute to load."
   ]
  },
  {
   "cell_type": "code",
   "execution_count": 2,
   "metadata": {},
   "outputs": [],
   "source": [
    "#Import file processing information\n",
    "with open(\"data/var/tif_vars_file_info.json\", \"r\") as all_file_info:\n",
    "    json_file_info = json.load(all_file_info)\n",
    "    \n",
    "#Read in list of HYBAS_IDs (see step1_data_management.ipynb).  Provides list of IDs to process.\n",
    "hybas_id_list=f_mng.read_pkl_df('data/basins_lvl12.txt')\n",
    "\n",
    "#Read in pickled level 12 HydroBASINS (see step1_data_management.ipynb)\n",
    "gdf = f_mng.read_pkl_gdf()"
   ]
  },
  {
   "cell_type": "markdown",
   "metadata": {},
   "source": [
    "This example is only running on a few basins as an example. When running all basins this can take hours using one processor.  See a multiprocessing python script that was used to run attribution of all tif files for all basins (XXXXXX.py).\n"
   ]
  },
  {
   "cell_type": "code",
   "execution_count": 3,
   "metadata": {},
   "outputs": [
    {
     "name": "stderr",
     "output_type": "stream",
     "text": [
      "/home/dwief/anaconda3/lib/python3.7/site-packages/rasterstats/io.py:300: UserWarning: Setting nodata to -999; specify nodata explicitly\n",
      "  warnings.warn(\"Setting nodata to -999; specify nodata explicitly\")\n",
      "/home/dwief/anaconda3/lib/python3.7/site-packages/numpy/lib/type_check.py:546: DeprecationWarning: np.asscalar(a) is deprecated since NumPy v1.16, use a.item() instead\n",
      "  'a.item() instead', DeprecationWarning, stacklevel=1)\n"
     ]
    }
   ],
   "source": [
    "import warnings\n",
    "warnings.filterwarnings(action='once')\n",
    "\n",
    "all_stats = []\n",
    "\n",
    "#run attribution on one basin, on subset of basins 0:3\n",
    "for basin in hybas_id_list[0:3]:\n",
    "    \n",
    "    #Select row from geodataframe with basin information, including bounding box info\n",
    "    basin_info_gdf = gdf.loc[gdf['HYBAS_ID']==int(basin)]\n",
    "    pfaf_12 = basin_info_gdf.iloc[0]['PFAF_ID']\n",
    "    sub_area = float((basin_info_gdf.iloc[0])['SUB_AREA'])\n",
    "    \n",
    "    bbox_gdf = basin_info_gdf.bounds\n",
    "\n",
    "    #Initiate basin stat object, this will help manage stats as created for the basin\n",
    "    basin_info = attr.Stats(basin, pfaf_12, sub_area)\n",
    "\n",
    "    #Add bounding box of basin to object\n",
    "    basin_info.bounds((bbox_gdf['minx']),(bbox_gdf['maxx']),(bbox_gdf['miny']), (bbox_gdf['maxy']))\n",
    "    #basin_info.bounds((basin_info_gdf['minx']),(basin_info_gdf['maxx']),(basin_info_gdf['miny']), (basin_info_gdf['maxy']))\n",
    "    \n",
    "    # loop through each record (representing a file in the folder containing variable data) in json_file_info \n",
    "    for file in json_file_info:\n",
    "            \n",
    "        var_bounds = file['bounds']\n",
    "\n",
    "        #evaluate if data in file spatialy overlaps spatial object using bounds, process if overlap/intersection occurs\n",
    "        basin_info.evaluate_intersection(var_bounds)\n",
    "        #If needed run zonal stats\n",
    "        basin_info.run_zonal_stats(basin_info_gdf, file)\n",
    "    \n",
    "    #Add stats to a common list\n",
    "    all_stats = basin_info.add_to_all_stats(all_stats)\n",
    "    basin_info = None\n",
    "    "
   ]
  },
  {
   "cell_type": "markdown",
   "metadata": {},
   "source": [
    "First record in all_stats.  Note that we are capturing more data than we likely need for our end product.  These information can help us test results and help others track where data are coming from.\n",
    "\n",
    "Each Record contains the following:\n",
    " * id: hybas_id from hydrobasins (level 12)\n",
    " * pfaf_12: pfaf value from hydrobasins\n",
    " * suite of summaries: \n",
    "         * label_stat0:value0, label_stat1:value1... label_statx:valuex\n",
    "         * src_file: tif files used in summary and how they evaluated in the bounds_eval method"
   ]
  },
  {
   "cell_type": "code",
   "execution_count": 4,
   "metadata": {},
   "outputs": [
    {
     "data": {
      "text/plain": [
       "{'h2o_depletion': {'h2o_depletion_1.0': 2,\n",
       "  'h2o_depletion_min': 1.0,\n",
       "  'h2o_depletion_max': 1.0,\n",
       "  'h2o_depletion_majority': 1.0,\n",
       "  'src_file': [{'file_name': 'WaterDepletionCat_WG3.tif', 'bounds_eval': 1}]},\n",
       " 'pasture2000': {'pasture2000_mean': 0.8507096171379089,\n",
       "  'pasture2000_count': 2,\n",
       "  'pasture2000_nodata': 0.0,\n",
       "  'src_file': [{'file_name': 'Pasture2000_5m_update_nodata999.tif',\n",
       "    'bounds_eval': 1}]},\n",
       " 'cropland2000': {'cropland2000_mean': 0.14929038286209106,\n",
       "  'cropland2000_count': 2,\n",
       "  'cropland2000_nodata': 0.0,\n",
       "  'src_file': [{'file_name': 'Cropland2000_5m_update_nodata999.tif',\n",
       "    'bounds_eval': 1}]},\n",
       " 'gpw2015_pop_den': {'gpw2015_pop_den_mean': 18.127021703827246,\n",
       "  'gpw2015_pop_den_count': 178,\n",
       "  'gpw2015_pop_den_nodata': 0.0,\n",
       "  'src_file': [{'file_name': 'gpw_v4_population_density_rev11_2015_30_sec.tif',\n",
       "    'bounds_eval': 1}]},\n",
       " 'lc2015_bare_cov': {'lc2015_bare_cov_mean': 0.0,\n",
       "  'lc2015_bare_cov_count': 12881,\n",
       "  'lc2015_bare_cov_nodata': 0.0,\n",
       "  'src_file': [{'file_name': 'E020N20_ProbaV_LC100_epoch2015_global_v2.0.1_bare-coverfraction-layer_EPSG-4326.tif',\n",
       "    'bounds_eval': 1}]},\n",
       " 'lc2015_grass_cov': {'lc2015_grass_cov_mean': 39.11241363248195,\n",
       "  'lc2015_grass_cov_count': 12881,\n",
       "  'lc2015_grass_cov_nodata': 0.0,\n",
       "  'src_file': [{'file_name': 'E020N20_ProbaV_LC100_epoch2015_global_v2.0.1_grass-coverfraction-layer_EPSG-4326.tif',\n",
       "    'bounds_eval': 1}]},\n",
       " 'lc2015_shrub_cov': {'lc2015_shrub_cov_mean': 32.858240819812124,\n",
       "  'lc2015_shrub_cov_count': 12881,\n",
       "  'lc2015_shrub_cov_nodata': 0.0,\n",
       "  'src_file': [{'file_name': 'E020N20_ProbaV_LC100_epoch2015_global_v2.0.1_shrub-coverfraction-layer_EPSG-4326.tif',\n",
       "    'bounds_eval': 1}]},\n",
       " 'lc2015_tree_cov': {'lc2015_tree_cov_mean': 28.023445384675103,\n",
       "  'lc2015_tree_cov_count': 12881,\n",
       "  'lc2015_tree_cov_nodata': 0.0,\n",
       "  'src_file': [{'file_name': 'E020N20_ProbaV_LC100_epoch2015_global_v2.0.1_tree-coverfraction-layer_EPSG-4326.tif',\n",
       "    'bounds_eval': 1}]},\n",
       " 'lc2015_waterseas_cov': {'lc2015_waterseas_cov_mean': 0.0,\n",
       "  'lc2015_waterseas_cov_count': 12881,\n",
       "  'lc2015_waterseas_cov_nodata': 0.0,\n",
       "  'src_file': [{'file_name': 'E020N20_ProbaV_LC100_epoch2015_global_v2.0.1_water-seasonal-coverfraction-layer_EPSG-4326.tif',\n",
       "    'bounds_eval': 1}]},\n",
       " 'lc2015_discrete_class': {'lc2015_discrete_class_20': 1173,\n",
       "  'lc2015_discrete_class_30': 122,\n",
       "  'lc2015_discrete_class_114': 74,\n",
       "  'lc2015_discrete_class_116': 7,\n",
       "  'lc2015_discrete_class_124': 6835,\n",
       "  'lc2015_discrete_class_126': 4670,\n",
       "  'lc2015_discrete_class_count': 12881,\n",
       "  'lc2015_discrete_class_nodata': 0.0,\n",
       "  'src_file': [{'file_name': 'E020N20_ProbaV_LC100_epoch2015_global_v2.0.1_discrete-classification_EPSG-4326.tif',\n",
       "    'bounds_eval': 1}]},\n",
       " 'lc2015_urban_cov': {'lc2015_urban_cov_mean': 0.0,\n",
       "  'lc2015_urban_cov_count': 12881,\n",
       "  'lc2015_urban_cov_nodata': 0.0,\n",
       "  'src_file': [{'file_name': 'E020N20_ProbaV_LC100_epoch2015_global_v2.0.1_urban-coverfraction-layer_EPSG-4326.tif',\n",
       "    'bounds_eval': 1}]},\n",
       " 'lc2015_waterperm_cov': {'lc2015_waterperm_cov_mean': 0.0,\n",
       "  'lc2015_waterperm_cov_count': 12881,\n",
       "  'lc2015_waterperm_cov_nodata': 0.0,\n",
       "  'src_file': [{'file_name': 'E020N20_ProbaV_LC100_epoch2015_global_v2.0.1_water-permanent-coverfraction-layer_EPSG-4326.tif',\n",
       "    'bounds_eval': 1}]},\n",
       " 'lc2015_moss_cov': {'lc2015_moss_cov_mean': 0.0,\n",
       "  'lc2015_moss_cov_count': 12881,\n",
       "  'lc2015_moss_cov_nodata': 0.0,\n",
       "  'src_file': [{'file_name': 'E020N20_ProbaV_LC100_epoch2015_global_v2.0.1_moss-coverfraction-layer_EPSG-4326.tif',\n",
       "    'bounds_eval': 1}]},\n",
       " 'lc2015_snow_cov': {'lc2015_snow_cov_mean': 0.0,\n",
       "  'lc2015_snow_cov_count': 12881,\n",
       "  'lc2015_snow_cov_nodata': 0.0,\n",
       "  'src_file': [{'file_name': 'E020N20_ProbaV_LC100_epoch2015_global_v2.0.1_snow-coverfraction-layer_EPSG-4326.tif',\n",
       "    'bounds_eval': 1}]},\n",
       " 'lc2015_crops_cov': {'lc2015_crops_cov_mean': 0.005900163030820588,\n",
       "  'lc2015_crops_cov_count': 12881,\n",
       "  'lc2015_crops_cov_nodata': 0.0,\n",
       "  'src_file': [{'file_name': 'E020N20_ProbaV_LC100_epoch2015_global_v2.0.1_crops-coverfraction-layer_EPSG-4326.tif',\n",
       "    'bounds_eval': 1}]},\n",
       " 'id': 1121976320,\n",
       " 'pfaf_12': 172882676400,\n",
       " 'sub_area': 154.8}"
      ]
     },
     "execution_count": 4,
     "metadata": {},
     "output_type": "execute_result"
    }
   ],
   "source": [
    "all_stats[0]"
   ]
  },
  {
   "cell_type": "code",
   "execution_count": 5,
   "metadata": {},
   "outputs": [],
   "source": [
    "#Export information to json file\n",
    "\n",
    "#with open('ouput/tif_att_stats.json', 'w') as outfile:\n",
    "#    json.dump(all_stats, outfile)"
   ]
  }
 ],
 "metadata": {
  "kernelspec": {
   "display_name": "Python 3",
   "language": "python",
   "name": "python3"
  },
  "language_info": {
   "codemirror_mode": {
    "name": "ipython",
    "version": 3
   },
   "file_extension": ".py",
   "mimetype": "text/x-python",
   "name": "python",
   "nbconvert_exporter": "python",
   "pygments_lexer": "ipython3",
   "version": "3.7.3"
  }
 },
 "nbformat": 4,
 "nbformat_minor": 2
}
