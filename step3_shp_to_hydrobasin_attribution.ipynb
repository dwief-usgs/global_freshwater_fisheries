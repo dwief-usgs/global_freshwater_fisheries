{
 "cells": [
  {
   "cell_type": "markdown",
   "metadata": {},
   "source": [
    "This is a placeholder exploring methods to attribute vector data (points/lines/polygons) to HydroBASINS.  Many open source methods are available but finding a method that isn't extremly slow is the challenge."
   ]
  },
  {
   "cell_type": "markdown",
   "metadata": {},
   "source": [
    "get list of level 3 basins\n",
    "for lvl3 basin\n",
    "    if #rows <4500\n",
    "        get level 5 basins:\n",
    "        for lvl 5 basin:\n",
    "            get field and stat info from csv\n",
    "            run stats\n",
    "    else:\n",
    "        run stats\n",
    "        \n",
    "        \n",
    "        in run stats for stat in stats = area_weighted\n",
    "                     for stat in stats == len_weighted\n",
    "                     for stat in stat == max\n",
    "                     for stat in stat == min\n",
    "                     for stat in stat =="
   ]
  },
  {
   "cell_type": "code",
   "execution_count": null,
   "metadata": {},
   "outputs": [],
   "source": [
    "from utils import file_management as f_mng"
   ]
  },
  {
   "cell_type": "code",
   "execution_count": null,
   "metadata": {},
   "outputs": [],
   "source": [
    "#any level can be used but in testing performance was best when ~ 3,000 lvl12 basins were processed at one time\n",
    "#these steps help ensure we are fairly close to the best performance\n",
    "#the average number of lvl12 basins in lvl 3 basins is , but the max is Y so we need to break those out further\n",
    "\n",
    "level = 3\n",
    "pfaf_id_list = f_mng.basin_list_by_pfaf_lvl(level=level)\n",
    "\n",
    "#read pickled geodataframe of lvl12 basins\n",
    "gdf = f_mng.read_pkl_gdf()\n",
    "gdf['PFAF_ID_str'] = gdf['PFAF_ID'].astype(str)"
   ]
  },
  {
   "cell_type": "code",
   "execution_count": null,
   "metadata": {},
   "outputs": [],
   "source": [
    "over = 0\n",
    "under = 0\n",
    "for pfaf_id in pfaf_id_list:\n",
    "    pid = str(pfaf_id)\n",
    "    lvl3_gdf = gdf.loc[gdf['PFAF_ID_str'].str.startswith(pid,na=False)]\n",
    "    rows, cols = lvl3_gdf.shape\n",
    "    \n",
    "    if rows > 3000:\n",
    "        over+=1\n",
    "        #print (f'{pid} : {rows}')\n",
    "        #level = 5\n",
    "        #pfaf_id_list = f_mng.basin_list_by_pfaf_lvl(level=level)\n",
    "        #lvl5_list = [x for x in pfaf_id_list if str(x).startswith(pid)]\n",
    "        #for pfaf_id in lvl5_list:\n",
    "        #    pid5 = str(pfaf_id)\n",
    "        #    lvl5_gdf = lvl3_gdf.loc[lvl3_gdf['PFAF_ID_str'].str.startswith(pid5,na=False)]\n",
    "        #    rows, cols = lvl5_gdf.shape\n",
    "        #    if rows > 3000 or rows < 200:\n",
    "        #        print (f'{pid} : {rows}')\n",
    "    elif rows < 250:\n",
    "        under+=1\n",
    "        #print (f'{pid} : {rows}')\n",
    "    "
   ]
  },
  {
   "cell_type": "code",
   "execution_count": null,
   "metadata": {},
   "outputs": [],
   "source": [
    "print (over)"
   ]
  },
  {
   "cell_type": "code",
   "execution_count": null,
   "metadata": {},
   "outputs": [],
   "source": [
    "print (under)"
   ]
  },
  {
   "cell_type": "code",
   "execution_count": 1,
   "metadata": {},
   "outputs": [
    {
     "ename": "NameError",
     "evalue": "name 'test' is not defined",
     "output_type": "error",
     "traceback": [
      "\u001b[0;31m---------------------------------------------------------------------------\u001b[0m",
      "\u001b[0;31mNameError\u001b[0m                                 Traceback (most recent call last)",
      "\u001b[0;32m<ipython-input-1-b54943a371de>\u001b[0m in \u001b[0;36m<module>\u001b[0;34m\u001b[0m\n\u001b[0;32m----> 1\u001b[0;31m \u001b[0mtest\u001b[0m\u001b[0;34m[\u001b[0m\u001b[0;34m'id'\u001b[0m\u001b[0;34m]\u001b[0m\u001b[0;34m=\u001b[0m\u001b[0;36m1\u001b[0m\u001b[0;34m\u001b[0m\u001b[0;34m\u001b[0m\u001b[0m\n\u001b[0m",
      "\u001b[0;31mNameError\u001b[0m: name 'test' is not defined"
     ]
    }
   ],
   "source": [
    "test['id']=1"
   ]
  },
  {
   "cell_type": "code",
   "execution_count": null,
   "metadata": {},
   "outputs": [],
   "source": []
  }
 ],
 "metadata": {
  "kernelspec": {
   "display_name": "Python 3",
   "language": "python",
   "name": "python3"
  },
  "language_info": {
   "codemirror_mode": {
    "name": "ipython",
    "version": 3
   },
   "file_extension": ".py",
   "mimetype": "text/x-python",
   "name": "python",
   "nbconvert_exporter": "python",
   "pygments_lexer": "ipython3",
   "version": "3.7.3"
  }
 },
 "nbformat": 4,
 "nbformat_minor": 2
}
