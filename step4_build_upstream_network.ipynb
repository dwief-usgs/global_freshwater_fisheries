{
 "cells": [
  {
   "cell_type": "markdown",
   "metadata": {},
   "source": [
    "### Step 4: Build Upstream Network\n",
    "This step only needs to be ran once and takes roughly 30 minutes to run."
   ]
  },
  {
   "cell_type": "code",
   "execution_count": 7,
   "metadata": {},
   "outputs": [],
   "source": [
    "from utils import build_network\n",
    "import numpy as np\n",
    "from timeit import default_timer as timer\n",
    "from utils import file_management as f_mng\n"
   ]
  },
  {
   "cell_type": "code",
   "execution_count": 10,
   "metadata": {},
   "outputs": [
    {
     "data": {
      "text/html": [
       "<div>\n",
       "<style scoped>\n",
       "    .dataframe tbody tr th:only-of-type {\n",
       "        vertical-align: middle;\n",
       "    }\n",
       "\n",
       "    .dataframe tbody tr th {\n",
       "        vertical-align: top;\n",
       "    }\n",
       "\n",
       "    .dataframe thead th {\n",
       "        text-align: right;\n",
       "    }\n",
       "</style>\n",
       "<table border=\"1\" class=\"dataframe\">\n",
       "  <thead>\n",
       "    <tr style=\"text-align: right;\">\n",
       "      <th></th>\n",
       "      <th>HYBAS_ID</th>\n",
       "      <th>NEXT_DOWN</th>\n",
       "      <th>NEXT_SINK</th>\n",
       "      <th>SUB_AREA</th>\n",
       "      <th>UP_AREA</th>\n",
       "      <th>PFAF_ID</th>\n",
       "      <th>ENDO</th>\n",
       "      <th>ORDER</th>\n",
       "    </tr>\n",
       "  </thead>\n",
       "  <tbody>\n",
       "    <tr>\n",
       "      <th>0</th>\n",
       "      <td>1120000010</td>\n",
       "      <td>0</td>\n",
       "      <td>1120000010</td>\n",
       "      <td>11.0</td>\n",
       "      <td>11.0</td>\n",
       "      <td>111011001000</td>\n",
       "      <td>0</td>\n",
       "      <td>0</td>\n",
       "    </tr>\n",
       "    <tr>\n",
       "      <th>1</th>\n",
       "      <td>1120000020</td>\n",
       "      <td>0</td>\n",
       "      <td>1120000020</td>\n",
       "      <td>137.0</td>\n",
       "      <td>416.8</td>\n",
       "      <td>111011002100</td>\n",
       "      <td>0</td>\n",
       "      <td>1</td>\n",
       "    </tr>\n",
       "    <tr>\n",
       "      <th>2</th>\n",
       "      <td>1121694330</td>\n",
       "      <td>1120000020</td>\n",
       "      <td>1120000020</td>\n",
       "      <td>135.1</td>\n",
       "      <td>280.0</td>\n",
       "      <td>111011002200</td>\n",
       "      <td>0</td>\n",
       "      <td>1</td>\n",
       "    </tr>\n",
       "  </tbody>\n",
       "</table>\n",
       "</div>"
      ],
      "text/plain": [
       "     HYBAS_ID   NEXT_DOWN   NEXT_SINK  SUB_AREA  UP_AREA       PFAF_ID  ENDO  \\\n",
       "0  1120000010           0  1120000010      11.0     11.0  111011001000     0   \n",
       "1  1120000020           0  1120000020     137.0    416.8  111011002100     0   \n",
       "2  1121694330  1120000020  1120000020     135.1    280.0  111011002200     0   \n",
       "\n",
       "   ORDER  \n",
       "0      0  \n",
       "1      1  \n",
       "2      1  "
      ]
     },
     "execution_count": 10,
     "metadata": {},
     "output_type": "execute_result"
    }
   ],
   "source": [
    "#Read pickled dataframe of all level 12 basins (without geometry)\n",
    "pkl_df_path = 'data/basins_lvl12_df.pkl'\n",
    "all_data=f_mng.read_pkl_df(pkl_df_path)\n",
    "\n",
    "#drop unneeded columns to reduce size and make easier to navigate contents\n",
    "all_data = all_data.drop(columns=['DIST_SINK','DIST_MAIN','SORT','COAST','MAIN_BAS'])\n",
    "all_data.head(3)"
   ]
  },
  {
   "cell_type": "code",
   "execution_count": 11,
   "metadata": {},
   "outputs": [],
   "source": [
    "#set segment_id to 0 if endo sink (we don't want to connect to rest of network), or next down if not endo sink\n",
    "all_data['temp_seg_id'] = np.where(all_data['ENDO']==2, 0, all_data['NEXT_DOWN'])\n",
    "seg_ids = all_data[['temp_seg_id','HYBAS_ID']]\n",
    "seg_ids = seg_ids.rename(columns={'temp_seg_id':'seg_id','HYBAS_ID':'upseg_id'})\n",
    "#merge data with itself to create up_seg dataframe from next_down (reverse from seg, down_seg to seg_upseg) to use existing code\n",
    "up_seg_df = pd.merge(all_data, seg_ids, left_on='HYBAS_ID', right_on='seg_id', how='left')\n",
    "#if no value for seg_id, these are headwaters, fill nan with HyBas_ID and upseg_id = 0 (no upstream basin)\n",
    "values = {'seg_id': up_seg_df['HYBAS_ID'], 'upseg_id': 0}\n",
    "up_seg_df = up_seg_df.fillna(value=values)\n",
    "#Remove unneeded columns\n",
    "up_seg_df = up_seg_df.drop(columns=['HYBAS_ID','NEXT_DOWN','temp_seg_id'])"
   ]
  },
  {
   "cell_type": "code",
   "execution_count": 12,
   "metadata": {},
   "outputs": [
    {
     "data": {
      "text/html": [
       "<div>\n",
       "<style scoped>\n",
       "    .dataframe tbody tr th:only-of-type {\n",
       "        vertical-align: middle;\n",
       "    }\n",
       "\n",
       "    .dataframe tbody tr th {\n",
       "        vertical-align: top;\n",
       "    }\n",
       "\n",
       "    .dataframe thead th {\n",
       "        text-align: right;\n",
       "    }\n",
       "</style>\n",
       "<table border=\"1\" class=\"dataframe\">\n",
       "  <thead>\n",
       "    <tr style=\"text-align: right;\">\n",
       "      <th></th>\n",
       "      <th>NEXT_SINK</th>\n",
       "      <th>SUB_AREA</th>\n",
       "      <th>UP_AREA</th>\n",
       "      <th>PFAF_ID</th>\n",
       "      <th>ENDO</th>\n",
       "      <th>ORDER</th>\n",
       "      <th>seg_id</th>\n",
       "      <th>upseg_id</th>\n",
       "    </tr>\n",
       "  </thead>\n",
       "  <tbody>\n",
       "    <tr>\n",
       "      <th>0</th>\n",
       "      <td>1120000010</td>\n",
       "      <td>11.0</td>\n",
       "      <td>11.0</td>\n",
       "      <td>111011001000</td>\n",
       "      <td>0</td>\n",
       "      <td>0</td>\n",
       "      <td>1.120000e+09</td>\n",
       "      <td>0.000000e+00</td>\n",
       "    </tr>\n",
       "    <tr>\n",
       "      <th>1</th>\n",
       "      <td>1120000020</td>\n",
       "      <td>137.0</td>\n",
       "      <td>416.8</td>\n",
       "      <td>111011002100</td>\n",
       "      <td>0</td>\n",
       "      <td>1</td>\n",
       "      <td>1.120000e+09</td>\n",
       "      <td>1.121694e+09</td>\n",
       "    </tr>\n",
       "    <tr>\n",
       "      <th>2</th>\n",
       "      <td>1120000020</td>\n",
       "      <td>135.1</td>\n",
       "      <td>280.0</td>\n",
       "      <td>111011002200</td>\n",
       "      <td>0</td>\n",
       "      <td>1</td>\n",
       "      <td>1.121694e+09</td>\n",
       "      <td>1.121694e+09</td>\n",
       "    </tr>\n",
       "    <tr>\n",
       "      <th>3</th>\n",
       "      <td>1120000020</td>\n",
       "      <td>144.9</td>\n",
       "      <td>144.9</td>\n",
       "      <td>111011002300</td>\n",
       "      <td>0</td>\n",
       "      <td>1</td>\n",
       "      <td>1.121694e+09</td>\n",
       "      <td>0.000000e+00</td>\n",
       "    </tr>\n",
       "    <tr>\n",
       "      <th>4</th>\n",
       "      <td>1120000030</td>\n",
       "      <td>186.8</td>\n",
       "      <td>186.9</td>\n",
       "      <td>111011003000</td>\n",
       "      <td>0</td>\n",
       "      <td>0</td>\n",
       "      <td>1.120000e+09</td>\n",
       "      <td>0.000000e+00</td>\n",
       "    </tr>\n",
       "  </tbody>\n",
       "</table>\n",
       "</div>"
      ],
      "text/plain": [
       "    NEXT_SINK  SUB_AREA  UP_AREA       PFAF_ID  ENDO  ORDER        seg_id  \\\n",
       "0  1120000010      11.0     11.0  111011001000     0      0  1.120000e+09   \n",
       "1  1120000020     137.0    416.8  111011002100     0      1  1.120000e+09   \n",
       "2  1120000020     135.1    280.0  111011002200     0      1  1.121694e+09   \n",
       "3  1120000020     144.9    144.9  111011002300     0      1  1.121694e+09   \n",
       "4  1120000030     186.8    186.9  111011003000     0      0  1.120000e+09   \n",
       "\n",
       "       upseg_id  \n",
       "0  0.000000e+00  \n",
       "1  1.121694e+09  \n",
       "2  1.121694e+09  \n",
       "3  0.000000e+00  \n",
       "4  0.000000e+00  "
      ]
     },
     "execution_count": 12,
     "metadata": {},
     "output_type": "execute_result"
    }
   ],
   "source": [
    "up_seg_df.head()"
   ]
  },
  {
   "cell_type": "code",
   "execution_count": 13,
   "metadata": {},
   "outputs": [
    {
     "name": "stdout",
     "output_type": "stream",
     "text": [
      "Time taken: 1642.1929949320001\n"
     ]
    }
   ],
   "source": [
    "start= timer()\n",
    "traverse_queue = build_network.upstream_setup(up_seg_df)\n",
    "hdf_name = 'output/hb12_netowrk.h5'\n",
    "build_network.upstream_build_network(traverse_queue, hdf_name)\n",
    "\n",
    "end = timer() \n",
    "print(\"Time taken:\", end-start) "
   ]
  },
  {
   "cell_type": "code",
   "execution_count": null,
   "metadata": {},
   "outputs": [],
   "source": []
  },
  {
   "cell_type": "code",
   "execution_count": 16,
   "metadata": {},
   "outputs": [
    {
     "data": {
      "text/plain": [
       "27.366666666666667"
      ]
     },
     "execution_count": 16,
     "metadata": {},
     "output_type": "execute_result"
    }
   ],
   "source": [
    "#For Level12 this took 1642 seconds, this shows minutes\n",
    "1642/60"
   ]
  }
 ],
 "metadata": {
  "kernelspec": {
   "display_name": "Python 3",
   "language": "python",
   "name": "python3"
  },
  "language_info": {
   "codemirror_mode": {
    "name": "ipython",
    "version": 3
   },
   "file_extension": ".py",
   "mimetype": "text/x-python",
   "name": "python",
   "nbconvert_exporter": "python",
   "pygments_lexer": "ipython3",
   "version": "3.7.3"
  }
 },
 "nbformat": 4,
 "nbformat_minor": 2
}
